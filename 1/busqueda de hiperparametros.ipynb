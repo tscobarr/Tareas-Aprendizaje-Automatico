{
  "cells": [
    {
      "cell_type": "markdown",
      "metadata": {
        "id": "VyFnacNuc8J8"
      },
      "source": [
        "# Taller de búsqueda de hiperparámetros\n",
        "\n",
        "En este taller vamos a explorar la búsqueda de hiperparámetros de manera automática."
      ]
    },
    {
      "cell_type": "code",
      "execution_count": 1,
      "metadata": {
        "id": "WwuqBvU5c2UP"
      },
      "outputs": [],
      "source": [
        "import time\n",
        "import numpy as np\n",
        "\n",
        "from sklearn.datasets import load_breast_cancer\n",
        "from sklearn.metrics import f1_score, accuracy_score\n",
        "from sklearn.model_selection import GridSearchCV, RandomizedSearchCV\n",
        "from sklearn.model_selection import train_test_split\n",
        "from sklearn.tree import DecisionTreeClassifier"
      ]
    },
    {
      "cell_type": "code",
      "execution_count": 2,
      "metadata": {
        "id": "mdcApIzGfkA-"
      },
      "outputs": [],
      "source": [
        "X, y = load_breast_cancer(return_X_y=True)"
      ]
    },
    {
      "cell_type": "code",
      "execution_count": 3,
      "metadata": {
        "id": "MOXrwdU2go2t"
      },
      "outputs": [],
      "source": [
        "test_size=0.25\n",
        "X_train, X_test, y_train, y_test = train_test_split(X, y, test_size=test_size)"
      ]
    },
    {
      "cell_type": "markdown",
      "metadata": {
        "id": "mflmNCKwiiC6"
      },
      "source": [
        "**Ejemplo 1:** encuentra los mejores hiperparámetros usando `GridSearchCV`"
      ]
    },
    {
      "cell_type": "code",
      "execution_count": 4,
      "metadata": {
        "id": "Fil-25CXgq6v"
      },
      "outputs": [
        {
          "name": "stdout",
          "output_type": "stream",
          "text": [
            "Tiempo de búsqueda: 0.492s\n"
          ]
        }
      ],
      "source": [
        "clf = DecisionTreeClassifier()\n",
        "\n",
        "# define los valores que usarás en la búsqueda del\n",
        "# hiperparametro C\n",
        "param_grid = {\n",
        "    \"max_depth\": (3, 6, 12, 18),\n",
        "    \"min_samples_leaf\": (1, 2, 3),\n",
        "    \"criterion\": [\"gini\", \"entropy\"]\n",
        "}\n",
        "\n",
        "# Utiliza GridSearchCV\n",
        "gs = GridSearchCV(clf, param_grid, cv=5, scoring='accuracy')\n",
        "\n",
        "t0 = time.time()\n",
        "gs.fit(X_train, y_train)\n",
        "print(\"Tiempo de búsqueda: {:.3f}s\".format(time.time() - t0))"
      ]
    },
    {
      "cell_type": "markdown",
      "metadata": {
        "id": "tteRejCFKQFr"
      },
      "source": [
        "podemos ver que el atributo `cv_results_` nos entrega los resultados de toda la búsqueda."
      ]
    },
    {
      "cell_type": "code",
      "execution_count": 5,
      "metadata": {
        "id": "HvqXXHKWqeki"
      },
      "outputs": [
        {
          "data": {
            "text/plain": [
              "['__abstractmethods__',\n",
              " '__annotations__',\n",
              " '__class__',\n",
              " '__delattr__',\n",
              " '__dict__',\n",
              " '__dir__',\n",
              " '__doc__',\n",
              " '__eq__',\n",
              " '__format__',\n",
              " '__ge__',\n",
              " '__getattribute__',\n",
              " '__getstate__',\n",
              " '__gt__',\n",
              " '__hash__',\n",
              " '__init__',\n",
              " '__init_subclass__',\n",
              " '__le__',\n",
              " '__lt__',\n",
              " '__module__',\n",
              " '__ne__',\n",
              " '__new__',\n",
              " '__reduce__',\n",
              " '__reduce_ex__',\n",
              " '__repr__',\n",
              " '__setattr__',\n",
              " '__setstate__',\n",
              " '__sizeof__',\n",
              " '__sklearn_clone__',\n",
              " '__sklearn_tags__',\n",
              " '__str__',\n",
              " '__subclasshook__',\n",
              " '__weakref__',\n",
              " '_abc_impl',\n",
              " '_build_request_for_signature',\n",
              " '_check_refit_for_multimetric',\n",
              " '_check_scorers_accept_sample_weight',\n",
              " '_doc_link_module',\n",
              " '_doc_link_template',\n",
              " '_doc_link_url_param_generator',\n",
              " '_estimator_type',\n",
              " '_format_results',\n",
              " '_get_default_requests',\n",
              " '_get_doc_link',\n",
              " '_get_metadata_request',\n",
              " '_get_param_names',\n",
              " '_get_params_html',\n",
              " '_get_routed_params_for_fit',\n",
              " '_get_scorers',\n",
              " '_html_repr',\n",
              " '_parameter_constraints',\n",
              " '_repr_html_',\n",
              " '_repr_html_inner',\n",
              " '_repr_mimebundle_',\n",
              " '_run_search',\n",
              " '_select_best_index',\n",
              " '_sk_visual_block_',\n",
              " '_validate_params',\n",
              " 'best_estimator_',\n",
              " 'best_index_',\n",
              " 'best_params_',\n",
              " 'best_score_',\n",
              " 'classes_',\n",
              " 'cv',\n",
              " 'cv_results_',\n",
              " 'decision_function',\n",
              " 'error_score',\n",
              " 'estimator',\n",
              " 'fit',\n",
              " 'get_metadata_routing',\n",
              " 'get_params',\n",
              " 'inverse_transform',\n",
              " 'multimetric_',\n",
              " 'n_features_in_',\n",
              " 'n_jobs',\n",
              " 'n_splits_',\n",
              " 'param_grid',\n",
              " 'pre_dispatch',\n",
              " 'predict',\n",
              " 'predict_log_proba',\n",
              " 'predict_proba',\n",
              " 'refit',\n",
              " 'refit_time_',\n",
              " 'return_train_score',\n",
              " 'score',\n",
              " 'score_samples',\n",
              " 'scorer_',\n",
              " 'scoring',\n",
              " 'set_params',\n",
              " 'transform',\n",
              " 'verbose']"
            ]
          },
          "execution_count": 5,
          "metadata": {},
          "output_type": "execute_result"
        }
      ],
      "source": [
        "dir(gs)"
      ]
    },
    {
      "cell_type": "code",
      "execution_count": 6,
      "metadata": {
        "id": "dqaewB2WIAXK"
      },
      "outputs": [
        {
          "data": {
            "text/plain": [
              "{'mean_fit_time': array([0.00265336, 0.00260329, 0.0025074 , 0.00360274, 0.00327516,\n",
              "        0.00330825, 0.00380311, 0.00310721, 0.00300813, 0.00371499,\n",
              "        0.00371342, 0.00320268, 0.00359859, 0.00340276, 0.00361004,\n",
              "        0.00371332, 0.00380316, 0.00390263, 0.00420995, 0.00386381,\n",
              "        0.0037096 , 0.00373583, 0.00360789, 0.00400963]),\n",
              " 'std_fit_time': array([0.00078454, 0.00058586, 0.00045477, 0.00058393, 0.00072546,\n",
              "        0.00040556, 0.00051023, 0.00019847, 0.00030581, 0.00051297,\n",
              "        0.00059821, 0.00024947, 0.00062421, 0.00037502, 0.00058507,\n",
              "        0.0003849 , 0.00051015, 0.00051911, 0.00068685, 0.00076502,\n",
              "        0.00050178, 0.00041096, 0.00057858, 0.00071194]),\n",
              " 'mean_score_time': array([0.00040002, 0.00020008, 0.00060081, 0.00060058, 0.0003346 ,\n",
              "        0.00020013, 0.00050111, 0.00059996, 0.00060081, 0.00040083,\n",
              "        0.00030103, 0.00059981, 0.00019937, 0.00039997, 0.00020003,\n",
              "        0.00080299, 0.00059977, 0.00040002, 0.00019956, 0.00040016,\n",
              "        0.00039988, 0.00059977, 0.00019999, 0.        ]),\n",
              " 'std_score_time': array([0.00048992, 0.00040016, 0.00049057, 0.00049037, 0.00042263,\n",
              "        0.00040026, 0.0004474 , 0.00048986, 0.00049057, 0.00049092,\n",
              "        0.0004005 , 0.00048975, 0.00039873, 0.00048986, 0.00040007,\n",
              "        0.00092996, 0.00048971, 0.00048992, 0.00039911, 0.0004901 ,\n",
              "        0.00048975, 0.00048971, 0.00039997, 0.        ]),\n",
              " 'param_criterion': masked_array(data=['gini', 'gini', 'gini', 'gini', 'gini', 'gini', 'gini',\n",
              "                    'gini', 'gini', 'gini', 'gini', 'gini', 'entropy',\n",
              "                    'entropy', 'entropy', 'entropy', 'entropy', 'entropy',\n",
              "                    'entropy', 'entropy', 'entropy', 'entropy', 'entropy',\n",
              "                    'entropy'],\n",
              "              mask=[False, False, False, False, False, False, False, False,\n",
              "                    False, False, False, False, False, False, False, False,\n",
              "                    False, False, False, False, False, False, False, False],\n",
              "        fill_value=np.str_('?'),\n",
              "             dtype=object),\n",
              " 'param_max_depth': masked_array(data=[3, 3, 3, 6, 6, 6, 12, 12, 12, 18, 18, 18, 3, 3, 3, 6,\n",
              "                    6, 6, 12, 12, 12, 18, 18, 18],\n",
              "              mask=[False, False, False, False, False, False, False, False,\n",
              "                    False, False, False, False, False, False, False, False,\n",
              "                    False, False, False, False, False, False, False, False],\n",
              "        fill_value=999999),\n",
              " 'param_min_samples_leaf': masked_array(data=[1, 2, 3, 1, 2, 3, 1, 2, 3, 1, 2, 3, 1, 2, 3, 1, 2, 3,\n",
              "                    1, 2, 3, 1, 2, 3],\n",
              "              mask=[False, False, False, False, False, False, False, False,\n",
              "                    False, False, False, False, False, False, False, False,\n",
              "                    False, False, False, False, False, False, False, False],\n",
              "        fill_value=999999),\n",
              " 'params': [{'criterion': 'gini', 'max_depth': 3, 'min_samples_leaf': 1},\n",
              "  {'criterion': 'gini', 'max_depth': 3, 'min_samples_leaf': 2},\n",
              "  {'criterion': 'gini', 'max_depth': 3, 'min_samples_leaf': 3},\n",
              "  {'criterion': 'gini', 'max_depth': 6, 'min_samples_leaf': 1},\n",
              "  {'criterion': 'gini', 'max_depth': 6, 'min_samples_leaf': 2},\n",
              "  {'criterion': 'gini', 'max_depth': 6, 'min_samples_leaf': 3},\n",
              "  {'criterion': 'gini', 'max_depth': 12, 'min_samples_leaf': 1},\n",
              "  {'criterion': 'gini', 'max_depth': 12, 'min_samples_leaf': 2},\n",
              "  {'criterion': 'gini', 'max_depth': 12, 'min_samples_leaf': 3},\n",
              "  {'criterion': 'gini', 'max_depth': 18, 'min_samples_leaf': 1},\n",
              "  {'criterion': 'gini', 'max_depth': 18, 'min_samples_leaf': 2},\n",
              "  {'criterion': 'gini', 'max_depth': 18, 'min_samples_leaf': 3},\n",
              "  {'criterion': 'entropy', 'max_depth': 3, 'min_samples_leaf': 1},\n",
              "  {'criterion': 'entropy', 'max_depth': 3, 'min_samples_leaf': 2},\n",
              "  {'criterion': 'entropy', 'max_depth': 3, 'min_samples_leaf': 3},\n",
              "  {'criterion': 'entropy', 'max_depth': 6, 'min_samples_leaf': 1},\n",
              "  {'criterion': 'entropy', 'max_depth': 6, 'min_samples_leaf': 2},\n",
              "  {'criterion': 'entropy', 'max_depth': 6, 'min_samples_leaf': 3},\n",
              "  {'criterion': 'entropy', 'max_depth': 12, 'min_samples_leaf': 1},\n",
              "  {'criterion': 'entropy', 'max_depth': 12, 'min_samples_leaf': 2},\n",
              "  {'criterion': 'entropy', 'max_depth': 12, 'min_samples_leaf': 3},\n",
              "  {'criterion': 'entropy', 'max_depth': 18, 'min_samples_leaf': 1},\n",
              "  {'criterion': 'entropy', 'max_depth': 18, 'min_samples_leaf': 2},\n",
              "  {'criterion': 'entropy', 'max_depth': 18, 'min_samples_leaf': 3}],\n",
              " 'split0_test_score': array([0.93023256, 0.94186047, 0.91860465, 0.91860465, 0.93023256,\n",
              "        0.94186047, 0.91860465, 0.93023256, 0.93023256, 0.94186047,\n",
              "        0.93023256, 0.94186047, 0.94186047, 0.94186047, 0.94186047,\n",
              "        0.96511628, 0.95348837, 0.95348837, 0.93023256, 0.95348837,\n",
              "        0.95348837, 0.95348837, 0.94186047, 0.95348837]),\n",
              " 'split1_test_score': array([0.95294118, 0.94117647, 0.95294118, 0.94117647, 0.92941176,\n",
              "        0.94117647, 0.95294118, 0.94117647, 0.95294118, 0.95294118,\n",
              "        0.95294118, 0.95294118, 0.92941176, 0.92941176, 0.92941176,\n",
              "        0.94117647, 0.95294118, 0.95294118, 0.95294118, 0.95294118,\n",
              "        0.95294118, 0.95294118, 0.95294118, 0.95294118]),\n",
              " 'split2_test_score': array([0.94117647, 0.94117647, 0.91764706, 0.94117647, 0.91764706,\n",
              "        0.90588235, 0.92941176, 0.92941176, 0.90588235, 0.94117647,\n",
              "        0.94117647, 0.89411765, 0.94117647, 0.94117647, 0.94117647,\n",
              "        0.95294118, 0.94117647, 0.95294118, 0.94117647, 0.92941176,\n",
              "        0.94117647, 0.92941176, 0.92941176, 0.91764706]),\n",
              " 'split3_test_score': array([0.89411765, 0.85882353, 0.87058824, 0.89411765, 0.84705882,\n",
              "        0.89411765, 0.88235294, 0.84705882, 0.90588235, 0.88235294,\n",
              "        0.85882353, 0.90588235, 0.89411765, 0.91764706, 0.89411765,\n",
              "        0.92941176, 0.90588235, 0.88235294, 0.89411765, 0.89411765,\n",
              "        0.88235294, 0.91764706, 0.88235294, 0.90588235]),\n",
              " 'split4_test_score': array([0.92941176, 0.92941176, 0.92941176, 0.87058824, 0.89411765,\n",
              "        0.91764706, 0.91764706, 0.88235294, 0.87058824, 0.95294118,\n",
              "        0.91764706, 0.91764706, 0.95294118, 0.94117647, 0.95294118,\n",
              "        0.95294118, 0.95294118, 0.91764706, 0.90588235, 0.89411765,\n",
              "        0.94117647, 0.92941176, 0.94117647, 0.95294118]),\n",
              " 'mean_test_score': array([0.92957592, 0.92248974, 0.91783858, 0.91313269, 0.90369357,\n",
              "        0.9201368 , 0.92019152, 0.90604651, 0.91310534, 0.93425445,\n",
              "        0.92016416, 0.92248974, 0.9319015 , 0.93425445, 0.9319015 ,\n",
              "        0.94831737, 0.94128591, 0.93187415, 0.92487004, 0.92481532,\n",
              "        0.93422709, 0.93658003, 0.92954856, 0.93658003]),\n",
              " 'std_test_score': array([0.01968886, 0.03217115, 0.02683039, 0.02747527, 0.03117575,\n",
              "        0.01897878, 0.02279607, 0.0357937 , 0.02754009, 0.02644965,\n",
              "        0.03282143, 0.02193968, 0.02030612, 0.00951774, 0.02030612,\n",
              "        0.01211096, 0.01829762, 0.0283181 , 0.02185812, 0.02652934,\n",
              "        0.02649049, 0.01424644, 0.0247445 , 0.02060132]),\n",
              " 'rank_test_score': array([11, 15, 20, 21, 24, 19, 17, 23, 22,  5, 18, 15,  8,  5,  8,  1,  2,\n",
              "        10, 13, 14,  7,  3, 12,  3], dtype=int32)}"
            ]
          },
          "execution_count": 6,
          "metadata": {},
          "output_type": "execute_result"
        }
      ],
      "source": [
        "gs.cv_results_"
      ]
    },
    {
      "cell_type": "markdown",
      "metadata": {
        "id": "m2txTbC3PwLd"
      },
      "source": [
        "Lo más importante es extraer los hiperparámetros del modelo que mejor error en de validación sacaron"
      ]
    },
    {
      "cell_type": "code",
      "execution_count": 7,
      "metadata": {
        "id": "KZ6IrAW2I8Dk"
      },
      "outputs": [
        {
          "data": {
            "text/plain": [
              "{'criterion': 'entropy', 'max_depth': 6, 'min_samples_leaf': 1}"
            ]
          },
          "execution_count": 7,
          "metadata": {},
          "output_type": "execute_result"
        }
      ],
      "source": [
        "gs.best_params_"
      ]
    },
    {
      "cell_type": "markdown",
      "metadata": {
        "id": "vfBKTWK2P7J_"
      },
      "source": [
        "También es posible el mejor resultado en la métrica usada"
      ]
    },
    {
      "cell_type": "code",
      "execution_count": 8,
      "metadata": {
        "id": "rU8hoyPLPQS3"
      },
      "outputs": [
        {
          "data": {
            "text/plain": [
              "np.float64(0.9483173734610124)"
            ]
          },
          "execution_count": 8,
          "metadata": {},
          "output_type": "execute_result"
        }
      ],
      "source": [
        "gs.best_score_"
      ]
    },
    {
      "cell_type": "markdown",
      "metadata": {
        "id": "jyAy8u0VQMqm"
      },
      "source": [
        "Finalmente, es posible extraer directamente un estimador que que ha sido creado con los mejores hiperparámetros."
      ]
    },
    {
      "cell_type": "code",
      "execution_count": 9,
      "metadata": {
        "id": "HSuzVLYWPS9q"
      },
      "outputs": [
        {
          "data": {
            "text/html": [
              "<style>#sk-container-id-1 {\n",
              "  /* Definition of color scheme common for light and dark mode */\n",
              "  --sklearn-color-text: #000;\n",
              "  --sklearn-color-text-muted: #666;\n",
              "  --sklearn-color-line: gray;\n",
              "  /* Definition of color scheme for unfitted estimators */\n",
              "  --sklearn-color-unfitted-level-0: #fff5e6;\n",
              "  --sklearn-color-unfitted-level-1: #f6e4d2;\n",
              "  --sklearn-color-unfitted-level-2: #ffe0b3;\n",
              "  --sklearn-color-unfitted-level-3: chocolate;\n",
              "  /* Definition of color scheme for fitted estimators */\n",
              "  --sklearn-color-fitted-level-0: #f0f8ff;\n",
              "  --sklearn-color-fitted-level-1: #d4ebff;\n",
              "  --sklearn-color-fitted-level-2: #b3dbfd;\n",
              "  --sklearn-color-fitted-level-3: cornflowerblue;\n",
              "\n",
              "  /* Specific color for light theme */\n",
              "  --sklearn-color-text-on-default-background: var(--sg-text-color, var(--theme-code-foreground, var(--jp-content-font-color1, black)));\n",
              "  --sklearn-color-background: var(--sg-background-color, var(--theme-background, var(--jp-layout-color0, white)));\n",
              "  --sklearn-color-border-box: var(--sg-text-color, var(--theme-code-foreground, var(--jp-content-font-color1, black)));\n",
              "  --sklearn-color-icon: #696969;\n",
              "\n",
              "  @media (prefers-color-scheme: dark) {\n",
              "    /* Redefinition of color scheme for dark theme */\n",
              "    --sklearn-color-text-on-default-background: var(--sg-text-color, var(--theme-code-foreground, var(--jp-content-font-color1, white)));\n",
              "    --sklearn-color-background: var(--sg-background-color, var(--theme-background, var(--jp-layout-color0, #111)));\n",
              "    --sklearn-color-border-box: var(--sg-text-color, var(--theme-code-foreground, var(--jp-content-font-color1, white)));\n",
              "    --sklearn-color-icon: #878787;\n",
              "  }\n",
              "}\n",
              "\n",
              "#sk-container-id-1 {\n",
              "  color: var(--sklearn-color-text);\n",
              "}\n",
              "\n",
              "#sk-container-id-1 pre {\n",
              "  padding: 0;\n",
              "}\n",
              "\n",
              "#sk-container-id-1 input.sk-hidden--visually {\n",
              "  border: 0;\n",
              "  clip: rect(1px 1px 1px 1px);\n",
              "  clip: rect(1px, 1px, 1px, 1px);\n",
              "  height: 1px;\n",
              "  margin: -1px;\n",
              "  overflow: hidden;\n",
              "  padding: 0;\n",
              "  position: absolute;\n",
              "  width: 1px;\n",
              "}\n",
              "\n",
              "#sk-container-id-1 div.sk-dashed-wrapped {\n",
              "  border: 1px dashed var(--sklearn-color-line);\n",
              "  margin: 0 0.4em 0.5em 0.4em;\n",
              "  box-sizing: border-box;\n",
              "  padding-bottom: 0.4em;\n",
              "  background-color: var(--sklearn-color-background);\n",
              "}\n",
              "\n",
              "#sk-container-id-1 div.sk-container {\n",
              "  /* jupyter's `normalize.less` sets `[hidden] { display: none; }`\n",
              "     but bootstrap.min.css set `[hidden] { display: none !important; }`\n",
              "     so we also need the `!important` here to be able to override the\n",
              "     default hidden behavior on the sphinx rendered scikit-learn.org.\n",
              "     See: https://github.com/scikit-learn/scikit-learn/issues/21755 */\n",
              "  display: inline-block !important;\n",
              "  position: relative;\n",
              "}\n",
              "\n",
              "#sk-container-id-1 div.sk-text-repr-fallback {\n",
              "  display: none;\n",
              "}\n",
              "\n",
              "div.sk-parallel-item,\n",
              "div.sk-serial,\n",
              "div.sk-item {\n",
              "  /* draw centered vertical line to link estimators */\n",
              "  background-image: linear-gradient(var(--sklearn-color-text-on-default-background), var(--sklearn-color-text-on-default-background));\n",
              "  background-size: 2px 100%;\n",
              "  background-repeat: no-repeat;\n",
              "  background-position: center center;\n",
              "}\n",
              "\n",
              "/* Parallel-specific style estimator block */\n",
              "\n",
              "#sk-container-id-1 div.sk-parallel-item::after {\n",
              "  content: \"\";\n",
              "  width: 100%;\n",
              "  border-bottom: 2px solid var(--sklearn-color-text-on-default-background);\n",
              "  flex-grow: 1;\n",
              "}\n",
              "\n",
              "#sk-container-id-1 div.sk-parallel {\n",
              "  display: flex;\n",
              "  align-items: stretch;\n",
              "  justify-content: center;\n",
              "  background-color: var(--sklearn-color-background);\n",
              "  position: relative;\n",
              "}\n",
              "\n",
              "#sk-container-id-1 div.sk-parallel-item {\n",
              "  display: flex;\n",
              "  flex-direction: column;\n",
              "}\n",
              "\n",
              "#sk-container-id-1 div.sk-parallel-item:first-child::after {\n",
              "  align-self: flex-end;\n",
              "  width: 50%;\n",
              "}\n",
              "\n",
              "#sk-container-id-1 div.sk-parallel-item:last-child::after {\n",
              "  align-self: flex-start;\n",
              "  width: 50%;\n",
              "}\n",
              "\n",
              "#sk-container-id-1 div.sk-parallel-item:only-child::after {\n",
              "  width: 0;\n",
              "}\n",
              "\n",
              "/* Serial-specific style estimator block */\n",
              "\n",
              "#sk-container-id-1 div.sk-serial {\n",
              "  display: flex;\n",
              "  flex-direction: column;\n",
              "  align-items: center;\n",
              "  background-color: var(--sklearn-color-background);\n",
              "  padding-right: 1em;\n",
              "  padding-left: 1em;\n",
              "}\n",
              "\n",
              "\n",
              "/* Toggleable style: style used for estimator/Pipeline/ColumnTransformer box that is\n",
              "clickable and can be expanded/collapsed.\n",
              "- Pipeline and ColumnTransformer use this feature and define the default style\n",
              "- Estimators will overwrite some part of the style using the `sk-estimator` class\n",
              "*/\n",
              "\n",
              "/* Pipeline and ColumnTransformer style (default) */\n",
              "\n",
              "#sk-container-id-1 div.sk-toggleable {\n",
              "  /* Default theme specific background. It is overwritten whether we have a\n",
              "  specific estimator or a Pipeline/ColumnTransformer */\n",
              "  background-color: var(--sklearn-color-background);\n",
              "}\n",
              "\n",
              "/* Toggleable label */\n",
              "#sk-container-id-1 label.sk-toggleable__label {\n",
              "  cursor: pointer;\n",
              "  display: flex;\n",
              "  width: 100%;\n",
              "  margin-bottom: 0;\n",
              "  padding: 0.5em;\n",
              "  box-sizing: border-box;\n",
              "  text-align: center;\n",
              "  align-items: start;\n",
              "  justify-content: space-between;\n",
              "  gap: 0.5em;\n",
              "}\n",
              "\n",
              "#sk-container-id-1 label.sk-toggleable__label .caption {\n",
              "  font-size: 0.6rem;\n",
              "  font-weight: lighter;\n",
              "  color: var(--sklearn-color-text-muted);\n",
              "}\n",
              "\n",
              "#sk-container-id-1 label.sk-toggleable__label-arrow:before {\n",
              "  /* Arrow on the left of the label */\n",
              "  content: \"▸\";\n",
              "  float: left;\n",
              "  margin-right: 0.25em;\n",
              "  color: var(--sklearn-color-icon);\n",
              "}\n",
              "\n",
              "#sk-container-id-1 label.sk-toggleable__label-arrow:hover:before {\n",
              "  color: var(--sklearn-color-text);\n",
              "}\n",
              "\n",
              "/* Toggleable content - dropdown */\n",
              "\n",
              "#sk-container-id-1 div.sk-toggleable__content {\n",
              "  display: none;\n",
              "  text-align: left;\n",
              "  /* unfitted */\n",
              "  background-color: var(--sklearn-color-unfitted-level-0);\n",
              "}\n",
              "\n",
              "#sk-container-id-1 div.sk-toggleable__content.fitted {\n",
              "  /* fitted */\n",
              "  background-color: var(--sklearn-color-fitted-level-0);\n",
              "}\n",
              "\n",
              "#sk-container-id-1 div.sk-toggleable__content pre {\n",
              "  margin: 0.2em;\n",
              "  border-radius: 0.25em;\n",
              "  color: var(--sklearn-color-text);\n",
              "  /* unfitted */\n",
              "  background-color: var(--sklearn-color-unfitted-level-0);\n",
              "}\n",
              "\n",
              "#sk-container-id-1 div.sk-toggleable__content.fitted pre {\n",
              "  /* unfitted */\n",
              "  background-color: var(--sklearn-color-fitted-level-0);\n",
              "}\n",
              "\n",
              "#sk-container-id-1 input.sk-toggleable__control:checked~div.sk-toggleable__content {\n",
              "  /* Expand drop-down */\n",
              "  display: block;\n",
              "  width: 100%;\n",
              "  overflow: visible;\n",
              "}\n",
              "\n",
              "#sk-container-id-1 input.sk-toggleable__control:checked~label.sk-toggleable__label-arrow:before {\n",
              "  content: \"▾\";\n",
              "}\n",
              "\n",
              "/* Pipeline/ColumnTransformer-specific style */\n",
              "\n",
              "#sk-container-id-1 div.sk-label input.sk-toggleable__control:checked~label.sk-toggleable__label {\n",
              "  color: var(--sklearn-color-text);\n",
              "  background-color: var(--sklearn-color-unfitted-level-2);\n",
              "}\n",
              "\n",
              "#sk-container-id-1 div.sk-label.fitted input.sk-toggleable__control:checked~label.sk-toggleable__label {\n",
              "  background-color: var(--sklearn-color-fitted-level-2);\n",
              "}\n",
              "\n",
              "/* Estimator-specific style */\n",
              "\n",
              "/* Colorize estimator box */\n",
              "#sk-container-id-1 div.sk-estimator input.sk-toggleable__control:checked~label.sk-toggleable__label {\n",
              "  /* unfitted */\n",
              "  background-color: var(--sklearn-color-unfitted-level-2);\n",
              "}\n",
              "\n",
              "#sk-container-id-1 div.sk-estimator.fitted input.sk-toggleable__control:checked~label.sk-toggleable__label {\n",
              "  /* fitted */\n",
              "  background-color: var(--sklearn-color-fitted-level-2);\n",
              "}\n",
              "\n",
              "#sk-container-id-1 div.sk-label label.sk-toggleable__label,\n",
              "#sk-container-id-1 div.sk-label label {\n",
              "  /* The background is the default theme color */\n",
              "  color: var(--sklearn-color-text-on-default-background);\n",
              "}\n",
              "\n",
              "/* On hover, darken the color of the background */\n",
              "#sk-container-id-1 div.sk-label:hover label.sk-toggleable__label {\n",
              "  color: var(--sklearn-color-text);\n",
              "  background-color: var(--sklearn-color-unfitted-level-2);\n",
              "}\n",
              "\n",
              "/* Label box, darken color on hover, fitted */\n",
              "#sk-container-id-1 div.sk-label.fitted:hover label.sk-toggleable__label.fitted {\n",
              "  color: var(--sklearn-color-text);\n",
              "  background-color: var(--sklearn-color-fitted-level-2);\n",
              "}\n",
              "\n",
              "/* Estimator label */\n",
              "\n",
              "#sk-container-id-1 div.sk-label label {\n",
              "  font-family: monospace;\n",
              "  font-weight: bold;\n",
              "  display: inline-block;\n",
              "  line-height: 1.2em;\n",
              "}\n",
              "\n",
              "#sk-container-id-1 div.sk-label-container {\n",
              "  text-align: center;\n",
              "}\n",
              "\n",
              "/* Estimator-specific */\n",
              "#sk-container-id-1 div.sk-estimator {\n",
              "  font-family: monospace;\n",
              "  border: 1px dotted var(--sklearn-color-border-box);\n",
              "  border-radius: 0.25em;\n",
              "  box-sizing: border-box;\n",
              "  margin-bottom: 0.5em;\n",
              "  /* unfitted */\n",
              "  background-color: var(--sklearn-color-unfitted-level-0);\n",
              "}\n",
              "\n",
              "#sk-container-id-1 div.sk-estimator.fitted {\n",
              "  /* fitted */\n",
              "  background-color: var(--sklearn-color-fitted-level-0);\n",
              "}\n",
              "\n",
              "/* on hover */\n",
              "#sk-container-id-1 div.sk-estimator:hover {\n",
              "  /* unfitted */\n",
              "  background-color: var(--sklearn-color-unfitted-level-2);\n",
              "}\n",
              "\n",
              "#sk-container-id-1 div.sk-estimator.fitted:hover {\n",
              "  /* fitted */\n",
              "  background-color: var(--sklearn-color-fitted-level-2);\n",
              "}\n",
              "\n",
              "/* Specification for estimator info (e.g. \"i\" and \"?\") */\n",
              "\n",
              "/* Common style for \"i\" and \"?\" */\n",
              "\n",
              ".sk-estimator-doc-link,\n",
              "a:link.sk-estimator-doc-link,\n",
              "a:visited.sk-estimator-doc-link {\n",
              "  float: right;\n",
              "  font-size: smaller;\n",
              "  line-height: 1em;\n",
              "  font-family: monospace;\n",
              "  background-color: var(--sklearn-color-background);\n",
              "  border-radius: 1em;\n",
              "  height: 1em;\n",
              "  width: 1em;\n",
              "  text-decoration: none !important;\n",
              "  margin-left: 0.5em;\n",
              "  text-align: center;\n",
              "  /* unfitted */\n",
              "  border: var(--sklearn-color-unfitted-level-1) 1pt solid;\n",
              "  color: var(--sklearn-color-unfitted-level-1);\n",
              "}\n",
              "\n",
              ".sk-estimator-doc-link.fitted,\n",
              "a:link.sk-estimator-doc-link.fitted,\n",
              "a:visited.sk-estimator-doc-link.fitted {\n",
              "  /* fitted */\n",
              "  border: var(--sklearn-color-fitted-level-1) 1pt solid;\n",
              "  color: var(--sklearn-color-fitted-level-1);\n",
              "}\n",
              "\n",
              "/* On hover */\n",
              "div.sk-estimator:hover .sk-estimator-doc-link:hover,\n",
              ".sk-estimator-doc-link:hover,\n",
              "div.sk-label-container:hover .sk-estimator-doc-link:hover,\n",
              ".sk-estimator-doc-link:hover {\n",
              "  /* unfitted */\n",
              "  background-color: var(--sklearn-color-unfitted-level-3);\n",
              "  color: var(--sklearn-color-background);\n",
              "  text-decoration: none;\n",
              "}\n",
              "\n",
              "div.sk-estimator.fitted:hover .sk-estimator-doc-link.fitted:hover,\n",
              ".sk-estimator-doc-link.fitted:hover,\n",
              "div.sk-label-container:hover .sk-estimator-doc-link.fitted:hover,\n",
              ".sk-estimator-doc-link.fitted:hover {\n",
              "  /* fitted */\n",
              "  background-color: var(--sklearn-color-fitted-level-3);\n",
              "  color: var(--sklearn-color-background);\n",
              "  text-decoration: none;\n",
              "}\n",
              "\n",
              "/* Span, style for the box shown on hovering the info icon */\n",
              ".sk-estimator-doc-link span {\n",
              "  display: none;\n",
              "  z-index: 9999;\n",
              "  position: relative;\n",
              "  font-weight: normal;\n",
              "  right: .2ex;\n",
              "  padding: .5ex;\n",
              "  margin: .5ex;\n",
              "  width: min-content;\n",
              "  min-width: 20ex;\n",
              "  max-width: 50ex;\n",
              "  color: var(--sklearn-color-text);\n",
              "  box-shadow: 2pt 2pt 4pt #999;\n",
              "  /* unfitted */\n",
              "  background: var(--sklearn-color-unfitted-level-0);\n",
              "  border: .5pt solid var(--sklearn-color-unfitted-level-3);\n",
              "}\n",
              "\n",
              ".sk-estimator-doc-link.fitted span {\n",
              "  /* fitted */\n",
              "  background: var(--sklearn-color-fitted-level-0);\n",
              "  border: var(--sklearn-color-fitted-level-3);\n",
              "}\n",
              "\n",
              ".sk-estimator-doc-link:hover span {\n",
              "  display: block;\n",
              "}\n",
              "\n",
              "/* \"?\"-specific style due to the `<a>` HTML tag */\n",
              "\n",
              "#sk-container-id-1 a.estimator_doc_link {\n",
              "  float: right;\n",
              "  font-size: 1rem;\n",
              "  line-height: 1em;\n",
              "  font-family: monospace;\n",
              "  background-color: var(--sklearn-color-background);\n",
              "  border-radius: 1rem;\n",
              "  height: 1rem;\n",
              "  width: 1rem;\n",
              "  text-decoration: none;\n",
              "  /* unfitted */\n",
              "  color: var(--sklearn-color-unfitted-level-1);\n",
              "  border: var(--sklearn-color-unfitted-level-1) 1pt solid;\n",
              "}\n",
              "\n",
              "#sk-container-id-1 a.estimator_doc_link.fitted {\n",
              "  /* fitted */\n",
              "  border: var(--sklearn-color-fitted-level-1) 1pt solid;\n",
              "  color: var(--sklearn-color-fitted-level-1);\n",
              "}\n",
              "\n",
              "/* On hover */\n",
              "#sk-container-id-1 a.estimator_doc_link:hover {\n",
              "  /* unfitted */\n",
              "  background-color: var(--sklearn-color-unfitted-level-3);\n",
              "  color: var(--sklearn-color-background);\n",
              "  text-decoration: none;\n",
              "}\n",
              "\n",
              "#sk-container-id-1 a.estimator_doc_link.fitted:hover {\n",
              "  /* fitted */\n",
              "  background-color: var(--sklearn-color-fitted-level-3);\n",
              "}\n",
              "\n",
              ".estimator-table summary {\n",
              "    padding: .5rem;\n",
              "    font-family: monospace;\n",
              "    cursor: pointer;\n",
              "}\n",
              "\n",
              ".estimator-table details[open] {\n",
              "    padding-left: 0.1rem;\n",
              "    padding-right: 0.1rem;\n",
              "    padding-bottom: 0.3rem;\n",
              "}\n",
              "\n",
              ".estimator-table .parameters-table {\n",
              "    margin-left: auto !important;\n",
              "    margin-right: auto !important;\n",
              "}\n",
              "\n",
              ".estimator-table .parameters-table tr:nth-child(odd) {\n",
              "    background-color: #fff;\n",
              "}\n",
              "\n",
              ".estimator-table .parameters-table tr:nth-child(even) {\n",
              "    background-color: #f6f6f6;\n",
              "}\n",
              "\n",
              ".estimator-table .parameters-table tr:hover {\n",
              "    background-color: #e0e0e0;\n",
              "}\n",
              "\n",
              ".estimator-table table td {\n",
              "    border: 1px solid rgba(106, 105, 104, 0.232);\n",
              "}\n",
              "\n",
              ".user-set td {\n",
              "    color:rgb(255, 94, 0);\n",
              "    text-align: left;\n",
              "}\n",
              "\n",
              ".user-set td.value pre {\n",
              "    color:rgb(255, 94, 0) !important;\n",
              "    background-color: transparent !important;\n",
              "}\n",
              "\n",
              ".default td {\n",
              "    color: black;\n",
              "    text-align: left;\n",
              "}\n",
              "\n",
              ".user-set td i,\n",
              ".default td i {\n",
              "    color: black;\n",
              "}\n",
              "\n",
              ".copy-paste-icon {\n",
              "    background-image: url(data:image/svg+xml;base64,PHN2ZyB4bWxucz0iaHR0cDovL3d3dy53My5vcmcvMjAwMC9zdmciIHZpZXdCb3g9IjAgMCA0NDggNTEyIj48IS0tIUZvbnQgQXdlc29tZSBGcmVlIDYuNy4yIGJ5IEBmb250YXdlc29tZSAtIGh0dHBzOi8vZm9udGF3ZXNvbWUuY29tIExpY2Vuc2UgLSBodHRwczovL2ZvbnRhd2Vzb21lLmNvbS9saWNlbnNlL2ZyZWUgQ29weXJpZ2h0IDIwMjUgRm9udGljb25zLCBJbmMuLS0+PHBhdGggZD0iTTIwOCAwTDMzMi4xIDBjMTIuNyAwIDI0LjkgNS4xIDMzLjkgMTQuMWw2Ny45IDY3LjljOSA5IDE0LjEgMjEuMiAxNC4xIDMzLjlMNDQ4IDMzNmMwIDI2LjUtMjEuNSA0OC00OCA0OGwtMTkyIDBjLTI2LjUgMC00OC0yMS41LTQ4LTQ4bDAtMjg4YzAtMjYuNSAyMS41LTQ4IDQ4LTQ4ek00OCAxMjhsODAgMCAwIDY0LTY0IDAgMCAyNTYgMTkyIDAgMC0zMiA2NCAwIDAgNDhjMCAyNi41LTIxLjUgNDgtNDggNDhMNDggNTEyYy0yNi41IDAtNDgtMjEuNS00OC00OEwwIDE3NmMwLTI2LjUgMjEuNS00OCA0OC00OHoiLz48L3N2Zz4=);\n",
              "    background-repeat: no-repeat;\n",
              "    background-size: 14px 14px;\n",
              "    background-position: 0;\n",
              "    display: inline-block;\n",
              "    width: 14px;\n",
              "    height: 14px;\n",
              "    cursor: pointer;\n",
              "}\n",
              "</style><body><div id=\"sk-container-id-1\" class=\"sk-top-container\"><div class=\"sk-text-repr-fallback\"><pre>DecisionTreeClassifier(criterion=&#x27;entropy&#x27;, max_depth=6)</pre><b>In a Jupyter environment, please rerun this cell to show the HTML representation or trust the notebook. <br />On GitHub, the HTML representation is unable to render, please try loading this page with nbviewer.org.</b></div><div class=\"sk-container\" hidden><div class=\"sk-item\"><div class=\"sk-estimator fitted sk-toggleable\"><input class=\"sk-toggleable__control sk-hidden--visually\" id=\"sk-estimator-id-1\" type=\"checkbox\" checked><label for=\"sk-estimator-id-1\" class=\"sk-toggleable__label fitted sk-toggleable__label-arrow\"><div><div>DecisionTreeClassifier</div></div><div><a class=\"sk-estimator-doc-link fitted\" rel=\"noreferrer\" target=\"_blank\" href=\"https://scikit-learn.org/1.7/modules/generated/sklearn.tree.DecisionTreeClassifier.html\">?<span>Documentation for DecisionTreeClassifier</span></a><span class=\"sk-estimator-doc-link fitted\">i<span>Fitted</span></span></div></label><div class=\"sk-toggleable__content fitted\" data-param-prefix=\"\">\n",
              "        <div class=\"estimator-table\">\n",
              "            <details>\n",
              "                <summary>Parameters</summary>\n",
              "                <table class=\"parameters-table\">\n",
              "                  <tbody>\n",
              "                    \n",
              "        <tr class=\"user-set\">\n",
              "            <td><i class=\"copy-paste-icon\"\n",
              "                 onclick=\"copyToClipboard('criterion',\n",
              "                          this.parentElement.nextElementSibling)\"\n",
              "            ></i></td>\n",
              "            <td class=\"param\">criterion&nbsp;</td>\n",
              "            <td class=\"value\">&#x27;entropy&#x27;</td>\n",
              "        </tr>\n",
              "    \n",
              "\n",
              "        <tr class=\"default\">\n",
              "            <td><i class=\"copy-paste-icon\"\n",
              "                 onclick=\"copyToClipboard('splitter',\n",
              "                          this.parentElement.nextElementSibling)\"\n",
              "            ></i></td>\n",
              "            <td class=\"param\">splitter&nbsp;</td>\n",
              "            <td class=\"value\">&#x27;best&#x27;</td>\n",
              "        </tr>\n",
              "    \n",
              "\n",
              "        <tr class=\"user-set\">\n",
              "            <td><i class=\"copy-paste-icon\"\n",
              "                 onclick=\"copyToClipboard('max_depth',\n",
              "                          this.parentElement.nextElementSibling)\"\n",
              "            ></i></td>\n",
              "            <td class=\"param\">max_depth&nbsp;</td>\n",
              "            <td class=\"value\">6</td>\n",
              "        </tr>\n",
              "    \n",
              "\n",
              "        <tr class=\"default\">\n",
              "            <td><i class=\"copy-paste-icon\"\n",
              "                 onclick=\"copyToClipboard('min_samples_split',\n",
              "                          this.parentElement.nextElementSibling)\"\n",
              "            ></i></td>\n",
              "            <td class=\"param\">min_samples_split&nbsp;</td>\n",
              "            <td class=\"value\">2</td>\n",
              "        </tr>\n",
              "    \n",
              "\n",
              "        <tr class=\"default\">\n",
              "            <td><i class=\"copy-paste-icon\"\n",
              "                 onclick=\"copyToClipboard('min_samples_leaf',\n",
              "                          this.parentElement.nextElementSibling)\"\n",
              "            ></i></td>\n",
              "            <td class=\"param\">min_samples_leaf&nbsp;</td>\n",
              "            <td class=\"value\">1</td>\n",
              "        </tr>\n",
              "    \n",
              "\n",
              "        <tr class=\"default\">\n",
              "            <td><i class=\"copy-paste-icon\"\n",
              "                 onclick=\"copyToClipboard('min_weight_fraction_leaf',\n",
              "                          this.parentElement.nextElementSibling)\"\n",
              "            ></i></td>\n",
              "            <td class=\"param\">min_weight_fraction_leaf&nbsp;</td>\n",
              "            <td class=\"value\">0.0</td>\n",
              "        </tr>\n",
              "    \n",
              "\n",
              "        <tr class=\"default\">\n",
              "            <td><i class=\"copy-paste-icon\"\n",
              "                 onclick=\"copyToClipboard('max_features',\n",
              "                          this.parentElement.nextElementSibling)\"\n",
              "            ></i></td>\n",
              "            <td class=\"param\">max_features&nbsp;</td>\n",
              "            <td class=\"value\">None</td>\n",
              "        </tr>\n",
              "    \n",
              "\n",
              "        <tr class=\"default\">\n",
              "            <td><i class=\"copy-paste-icon\"\n",
              "                 onclick=\"copyToClipboard('random_state',\n",
              "                          this.parentElement.nextElementSibling)\"\n",
              "            ></i></td>\n",
              "            <td class=\"param\">random_state&nbsp;</td>\n",
              "            <td class=\"value\">None</td>\n",
              "        </tr>\n",
              "    \n",
              "\n",
              "        <tr class=\"default\">\n",
              "            <td><i class=\"copy-paste-icon\"\n",
              "                 onclick=\"copyToClipboard('max_leaf_nodes',\n",
              "                          this.parentElement.nextElementSibling)\"\n",
              "            ></i></td>\n",
              "            <td class=\"param\">max_leaf_nodes&nbsp;</td>\n",
              "            <td class=\"value\">None</td>\n",
              "        </tr>\n",
              "    \n",
              "\n",
              "        <tr class=\"default\">\n",
              "            <td><i class=\"copy-paste-icon\"\n",
              "                 onclick=\"copyToClipboard('min_impurity_decrease',\n",
              "                          this.parentElement.nextElementSibling)\"\n",
              "            ></i></td>\n",
              "            <td class=\"param\">min_impurity_decrease&nbsp;</td>\n",
              "            <td class=\"value\">0.0</td>\n",
              "        </tr>\n",
              "    \n",
              "\n",
              "        <tr class=\"default\">\n",
              "            <td><i class=\"copy-paste-icon\"\n",
              "                 onclick=\"copyToClipboard('class_weight',\n",
              "                          this.parentElement.nextElementSibling)\"\n",
              "            ></i></td>\n",
              "            <td class=\"param\">class_weight&nbsp;</td>\n",
              "            <td class=\"value\">None</td>\n",
              "        </tr>\n",
              "    \n",
              "\n",
              "        <tr class=\"default\">\n",
              "            <td><i class=\"copy-paste-icon\"\n",
              "                 onclick=\"copyToClipboard('ccp_alpha',\n",
              "                          this.parentElement.nextElementSibling)\"\n",
              "            ></i></td>\n",
              "            <td class=\"param\">ccp_alpha&nbsp;</td>\n",
              "            <td class=\"value\">0.0</td>\n",
              "        </tr>\n",
              "    \n",
              "\n",
              "        <tr class=\"default\">\n",
              "            <td><i class=\"copy-paste-icon\"\n",
              "                 onclick=\"copyToClipboard('monotonic_cst',\n",
              "                          this.parentElement.nextElementSibling)\"\n",
              "            ></i></td>\n",
              "            <td class=\"param\">monotonic_cst&nbsp;</td>\n",
              "            <td class=\"value\">None</td>\n",
              "        </tr>\n",
              "    \n",
              "                  </tbody>\n",
              "                </table>\n",
              "            </details>\n",
              "        </div>\n",
              "    </div></div></div></div></div><script>function copyToClipboard(text, element) {\n",
              "    // Get the parameter prefix from the closest toggleable content\n",
              "    const toggleableContent = element.closest('.sk-toggleable__content');\n",
              "    const paramPrefix = toggleableContent ? toggleableContent.dataset.paramPrefix : '';\n",
              "    const fullParamName = paramPrefix ? `${paramPrefix}${text}` : text;\n",
              "\n",
              "    const originalStyle = element.style;\n",
              "    const computedStyle = window.getComputedStyle(element);\n",
              "    const originalWidth = computedStyle.width;\n",
              "    const originalHTML = element.innerHTML.replace('Copied!', '');\n",
              "\n",
              "    navigator.clipboard.writeText(fullParamName)\n",
              "        .then(() => {\n",
              "            element.style.width = originalWidth;\n",
              "            element.style.color = 'green';\n",
              "            element.innerHTML = \"Copied!\";\n",
              "\n",
              "            setTimeout(() => {\n",
              "                element.innerHTML = originalHTML;\n",
              "                element.style = originalStyle;\n",
              "            }, 2000);\n",
              "        })\n",
              "        .catch(err => {\n",
              "            console.error('Failed to copy:', err);\n",
              "            element.style.color = 'red';\n",
              "            element.innerHTML = \"Failed!\";\n",
              "            setTimeout(() => {\n",
              "                element.innerHTML = originalHTML;\n",
              "                element.style = originalStyle;\n",
              "            }, 2000);\n",
              "        });\n",
              "    return false;\n",
              "}\n",
              "\n",
              "document.querySelectorAll('.fa-regular.fa-copy').forEach(function(element) {\n",
              "    const toggleableContent = element.closest('.sk-toggleable__content');\n",
              "    const paramPrefix = toggleableContent ? toggleableContent.dataset.paramPrefix : '';\n",
              "    const paramName = element.parentElement.nextElementSibling.textContent.trim();\n",
              "    const fullParamName = paramPrefix ? `${paramPrefix}${paramName}` : paramName;\n",
              "\n",
              "    element.setAttribute('title', fullParamName);\n",
              "});\n",
              "</script></body>"
            ],
            "text/plain": [
              "DecisionTreeClassifier(criterion='entropy', max_depth=6)"
            ]
          },
          "execution_count": 9,
          "metadata": {},
          "output_type": "execute_result"
        }
      ],
      "source": [
        "gs.best_estimator_"
      ]
    },
    {
      "cell_type": "markdown",
      "metadata": {
        "id": "9UxIKGE1QWh0"
      },
      "source": [
        "**Ejemplo 2:** la clase `RandomizedSearchCV` se puede usar casi de la misma manera, solo que esta vez se debe escoger un número de combinaciones a evaluar; las cuales se escogeran de manera aleatoria."
      ]
    },
    {
      "cell_type": "code",
      "execution_count": 10,
      "metadata": {
        "id": "9-SVjssQPmKc"
      },
      "outputs": [
        {
          "name": "stdout",
          "output_type": "stream",
          "text": [
            "Tiempo de búsqueda: 0.202s\n"
          ]
        }
      ],
      "source": [
        "clf = DecisionTreeClassifier()\n",
        "\n",
        "# define los valores que usarás en la búsqueda del\n",
        "# hiperparametro C\n",
        "param_dist = {\n",
        "    \"max_depth\": (3, 6, 12, 18),\n",
        "    \"min_samples_leaf\": (1, 2, 3),\n",
        "    \"criterion\": [\"gini\", \"entropy\"]\n",
        "}\n",
        "\n",
        "# Utiliza RandomizedSearchCV\n",
        "rs = RandomizedSearchCV(clf, param_dist, n_iter=10, cv=5, scoring='accuracy', random_state=42)\n",
        "\n",
        "t0 = time.time()\n",
        "rs.fit(X_train, y_train)\n",
        "print(\"Tiempo de búsqueda: {:.3f}s\".format(time.time() - t0))"
      ]
    },
    {
      "cell_type": "code",
      "execution_count": 11,
      "metadata": {
        "id": "r5lznQSNSAdr"
      },
      "outputs": [
        {
          "data": {
            "text/plain": [
              "np.float64(0.93187414500684)"
            ]
          },
          "execution_count": 11,
          "metadata": {},
          "output_type": "execute_result"
        }
      ],
      "source": [
        "rs.best_score_"
      ]
    },
    {
      "cell_type": "markdown",
      "metadata": {
        "id": "OAKtSxo-bll9"
      },
      "source": [
        "Podemos ver que aunque se demoró mucho menos, el resultado no es tan bueno."
      ]
    },
    {
      "cell_type": "markdown",
      "metadata": {},
      "source": [
        "# Búsqueda de hiperparámetros con Optuna (Versión Mejorada)"
      ]
    },
    {
      "cell_type": "code",
      "execution_count": 12,
      "metadata": {},
      "outputs": [
        {
          "name": "stderr",
          "output_type": "stream",
          "text": [
            "f:\\Universidad\\Aprendizaje automático\\Hw\\Tareas-Aprendizaje-Automatico\\.venv\\Lib\\site-packages\\tqdm\\auto.py:21: TqdmWarning: IProgress not found. Please update jupyter and ipywidgets. See https://ipywidgets.readthedocs.io/en/stable/user_install.html\n",
            "  from .autonotebook import tqdm as notebook_tqdm\n"
          ]
        },
        {
          "name": "stdout",
          "output_type": "stream",
          "text": [
            "Distribución de clases en entrenamiento: [159 267]\n",
            "   Clase 0: 159 muestras\n",
            "   Clase 1: 267 muestras\n",
            "   Ratio: 1.68\n"
          ]
        }
      ],
      "source": [
        "# Importar librerías necesarias\n",
        "import optuna\n",
        "from optuna.samplers import TPESampler\n",
        "from optuna.pruners import MedianPruner\n",
        "from sklearn.model_selection import cross_val_score, StratifiedKFold\n",
        "import matplotlib.pyplot as plt\n",
        "\n",
        "# Verificar el desbalance de clases\n",
        "print(f\"Distribución de clases en entrenamiento: {np.bincount(y_train)}\")\n",
        "print(f\"   Clase 0: {np.bincount(y_train)[0]} muestras\")\n",
        "print(f\"   Clase 1: {np.bincount(y_train)[1]} muestras\")\n",
        "print(f\"   Ratio: {np.bincount(y_train)[1]/np.bincount(y_train)[0]:.2f}\")"
      ]
    },
    {
      "cell_type": "code",
      "execution_count": 13,
      "metadata": {},
      "outputs": [],
      "source": [
        "def objective(trial):\n",
        "    \"\"\"\n",
        "    Función objetivo para Optuna\n",
        "    \"\"\"\n",
        "    # Hiperparámetros básicos (como en los ejemplos anteriores)\n",
        "    max_depth = trial.suggest_categorical('max_depth', [3, 6, 12, 18])\n",
        "    min_samples_leaf = trial.suggest_categorical('min_samples_leaf', [1, 2, 3])\n",
        "    criterion = trial.suggest_categorical('criterion', ['gini', 'entropy'])\n",
        "    min_samples_split = trial.suggest_int('min_samples_split', 2, 20)\n",
        "    max_features = trial.suggest_categorical('max_features', ['sqrt', 'log2', None, 0.5, 0.8])\n",
        "    ccp_alpha = trial.suggest_float('ccp_alpha', 0.0, 0.01, step=0.001)\n",
        "    \n",
        "    # Crear el clasificador con todos los hiperparámetros\n",
        "    clf = DecisionTreeClassifier(\n",
        "        max_depth=max_depth,\n",
        "        min_samples_leaf=min_samples_leaf,\n",
        "        criterion=criterion,\n",
        "        min_samples_split=min_samples_split,\n",
        "        max_features=max_features,\n",
        "        ccp_alpha=ccp_alpha,\n",
        "        random_state=42  # Para reproducibilidad\n",
        "    )\n",
        "    \n",
        "    # Validación cruzada estratificada (mejor que la normal para datos desbalanceados)\n",
        "    skf = StratifiedKFold(n_splits=5, shuffle=True, random_state=42)\n",
        "    \n",
        "    # Calcular múltiples métricas\n",
        "    f1_scores = cross_val_score(clf, X_train, y_train, scoring='f1', cv=skf)\n",
        "    accuracy_scores = cross_val_score(clf, X_train, y_train, scoring='accuracy', cv=skf)\n",
        "    \n",
        "    # Métrica principal: F1-score (por el desbalance)\n",
        "    f1_mean = f1_scores.mean()\n",
        "    \n",
        "    # Guardar métricas adicionales como atributos del trial\n",
        "    trial.set_user_attr('f1_std', f1_scores.std())\n",
        "    trial.set_user_attr('accuracy_mean', accuracy_scores.mean())\n",
        "    trial.set_user_attr('accuracy_std', accuracy_scores.std())\n",
        "    trial.set_user_attr('f1_scores', f1_scores.tolist())\n",
        "    \n",
        "    return f1_mean"
      ]
    },
    {
      "cell_type": "code",
      "execution_count": 14,
      "metadata": {},
      "outputs": [
        {
          "name": "stderr",
          "output_type": "stream",
          "text": [
            "[I 2025-07-13 23:23:01,028] A new study created in memory with name: DecisionTree_Enhanced_Hyperparameter_Search\n"
          ]
        },
        {
          "name": "stdout",
          "output_type": "stream",
          "text": [
            "Configuración:\n",
            "   Dirección: 2\n",
            "   Sampler: TPESampler\n",
            "   Pruner: MedianPruner\n",
            "   Startup trials: 10 (vs 5 por defecto)\n",
            "\n",
            "Iniciando optimización con 100 trials...\n",
            "============================================================\n"
          ]
        },
        {
          "name": "stderr",
          "output_type": "stream",
          "text": [
            "Best trial: 0. Best value: 0.943973:   4%|▍         | 4/100 [00:00<00:03, 28.58it/s]"
          ]
        },
        {
          "name": "stdout",
          "output_type": "stream",
          "text": [
            "[I 2025-07-13 23:23:01,054] Trial 0 finished with value: 0.9439727340021611 and parameters: {'max_depth': 6, 'min_samples_leaf': 1, 'criterion': 'gini', 'min_samples_split': 15, 'max_features': 'log2', 'ccp_alpha': 0.002}. Best is trial 0 with value: 0.9439727340021611.\n",
            "Trial 0: 0.9440\n",
            "[I 2025-07-13 23:23:01,103] Trial 1 finished with value: 0.9382117439390422 and parameters: {'max_depth': 6, 'min_samples_leaf': 1, 'criterion': 'entropy', 'min_samples_split': 16, 'max_features': 0.8, 'ccp_alpha': 0.001}. Best is trial 0 with value: 0.9439727340021611.\n",
            "[I 2025-07-13 23:23:01,127] Trial 2 finished with value: 0.936702763056814 and parameters: {'max_depth': 12, 'min_samples_leaf': 3, 'criterion': 'gini', 'min_samples_split': 11, 'max_features': 'log2', 'ccp_alpha': 0.005}. Best is trial 0 with value: 0.9439727340021611.\n",
            "[I 2025-07-13 23:23:01,168] Trial 3 finished with value: 0.9366722476985704 and parameters: {'max_depth': 12, 'min_samples_leaf': 1, 'criterion': 'gini', 'min_samples_split': 5, 'max_features': 0.8, 'ccp_alpha': 0.003}. Best is trial 0 with value: 0.9439727340021611.\n"
          ]
        },
        {
          "name": "stderr",
          "output_type": "stream",
          "text": [
            "Best trial: 0. Best value: 0.943973:   4%|▍         | 4/100 [00:00<00:03, 28.58it/s]"
          ]
        },
        {
          "name": "stdout",
          "output_type": "stream",
          "text": [
            "[I 2025-07-13 23:23:01,217] Trial 4 finished with value: 0.9271630170384351 and parameters: {'max_depth': 18, 'min_samples_leaf': 2, 'criterion': 'gini', 'min_samples_split': 17, 'max_features': None, 'ccp_alpha': 0.001}. Best is trial 0 with value: 0.9439727340021611.\n"
          ]
        },
        {
          "name": "stderr",
          "output_type": "stream",
          "text": [
            "Best trial: 0. Best value: 0.943973:   9%|▉         | 9/100 [00:00<00:03, 27.14it/s]"
          ]
        },
        {
          "name": "stdout",
          "output_type": "stream",
          "text": [
            "[I 2025-07-13 23:23:01,261] Trial 5 finished with value: 0.9399489686380887 and parameters: {'max_depth': 3, 'min_samples_leaf': 3, 'criterion': 'entropy', 'min_samples_split': 10, 'max_features': 0.8, 'ccp_alpha': 0.005}. Best is trial 0 with value: 0.9439727340021611.\n",
            "[I 2025-07-13 23:23:01,284] Trial 6 finished with value: 0.9328680627311519 and parameters: {'max_depth': 3, 'min_samples_leaf': 2, 'criterion': 'entropy', 'min_samples_split': 6, 'max_features': 'log2', 'ccp_alpha': 0.001}. Best is trial 0 with value: 0.9439727340021611.\n",
            "[I 2025-07-13 23:23:01,329] Trial 7 finished with value: 0.9399489686380887 and parameters: {'max_depth': 3, 'min_samples_leaf': 3, 'criterion': 'entropy', 'min_samples_split': 19, 'max_features': 0.8, 'ccp_alpha': 0.009000000000000001}. Best is trial 0 with value: 0.9439727340021611.\n",
            "[I 2025-07-13 23:23:01,354] Trial 8 finished with value: 0.933771183447923 and parameters: {'max_depth': 6, 'min_samples_leaf': 3, 'criterion': 'entropy', 'min_samples_split': 15, 'max_features': 'log2', 'ccp_alpha': 0.003}. Best is trial 0 with value: 0.9439727340021611.\n",
            "[I 2025-07-13 23:23:01,378] Trial 9 finished with value: 0.9234434005789576 and parameters: {'max_depth': 12, 'min_samples_leaf': 3, 'criterion': 'gini', 'min_samples_split': 11, 'max_features': 'sqrt', 'ccp_alpha': 0.008}. Best is trial 0 with value: 0.9439727340021611.\n"
          ]
        },
        {
          "name": "stderr",
          "output_type": "stream",
          "text": [
            "Best trial: 10. Best value: 0.944839:  11%|█         | 11/100 [00:00<00:03, 28.36it/s]"
          ]
        },
        {
          "name": "stdout",
          "output_type": "stream",
          "text": [
            "[I 2025-07-13 23:23:01,419] Trial 10 finished with value: 0.9448387346412194 and parameters: {'max_depth': 6, 'min_samples_leaf': 1, 'criterion': 'gini', 'min_samples_split': 2, 'max_features': 0.5, 'ccp_alpha': 0.007}. Best is trial 10 with value: 0.9448387346412194.\n",
            "Trial 10: 0.9448\n"
          ]
        },
        {
          "name": "stderr",
          "output_type": "stream",
          "text": [
            "Best trial: 14. Best value: 0.949556:  14%|█▍        | 14/100 [00:00<00:03, 26.93it/s]"
          ]
        },
        {
          "name": "stdout",
          "output_type": "stream",
          "text": [
            "[I 2025-07-13 23:23:01,459] Trial 11 finished with value: 0.9448387346412194 and parameters: {'max_depth': 6, 'min_samples_leaf': 1, 'criterion': 'gini', 'min_samples_split': 2, 'max_features': 0.5, 'ccp_alpha': 0.007}. Best is trial 10 with value: 0.9448387346412194.\n",
            "[I 2025-07-13 23:23:01,501] Trial 12 finished with value: 0.9448387346412194 and parameters: {'max_depth': 6, 'min_samples_leaf': 1, 'criterion': 'gini', 'min_samples_split': 2, 'max_features': 0.5, 'ccp_alpha': 0.007}. Best is trial 10 with value: 0.9448387346412194.\n",
            "[I 2025-07-13 23:23:01,541] Trial 13 finished with value: 0.9448387346412194 and parameters: {'max_depth': 6, 'min_samples_leaf': 1, 'criterion': 'gini', 'min_samples_split': 2, 'max_features': 0.5, 'ccp_alpha': 0.007}. Best is trial 10 with value: 0.9448387346412194.\n",
            "[I 2025-07-13 23:23:01,583] Trial 14 finished with value: 0.9495564245088219 and parameters: {'max_depth': 18, 'min_samples_leaf': 1, 'criterion': 'gini', 'min_samples_split': 6, 'max_features': 0.5, 'ccp_alpha': 0.01}. Best is trial 14 with value: 0.9495564245088219.\n"
          ]
        },
        {
          "name": "stderr",
          "output_type": "stream",
          "text": [
            "Best trial: 15. Best value: 0.951184:  15%|█▌        | 15/100 [00:00<00:03, 26.93it/s]"
          ]
        },
        {
          "name": "stdout",
          "output_type": "stream",
          "text": [
            "[I 2025-07-13 23:23:01,624] Trial 15 finished with value: 0.9511842376945532 and parameters: {'max_depth': 18, 'min_samples_leaf': 1, 'criterion': 'gini', 'min_samples_split': 7, 'max_features': 0.5, 'ccp_alpha': 0.01}. Best is trial 15 with value: 0.9511842376945532.\n"
          ]
        },
        {
          "name": "stderr",
          "output_type": "stream",
          "text": [
            "Best trial: 15. Best value: 0.951184:  20%|██        | 20/100 [00:00<00:03, 25.29it/s]"
          ]
        },
        {
          "name": "stdout",
          "output_type": "stream",
          "text": [
            "[I 2025-07-13 23:23:01,664] Trial 16 finished with value: 0.9459912309436446 and parameters: {'max_depth': 18, 'min_samples_leaf': 2, 'criterion': 'gini', 'min_samples_split': 7, 'max_features': 0.5, 'ccp_alpha': 0.01}. Best is trial 15 with value: 0.9511842376945532.\n",
            "[I 2025-07-13 23:23:01,719] Trial 17 finished with value: 0.93904118899446 and parameters: {'max_depth': 18, 'min_samples_leaf': 1, 'criterion': 'gini', 'min_samples_split': 8, 'max_features': None, 'ccp_alpha': 0.01}. Best is trial 15 with value: 0.9511842376945532.\n",
            "[I 2025-07-13 23:23:01,749] Trial 18 finished with value: 0.9393992335815196 and parameters: {'max_depth': 18, 'min_samples_leaf': 1, 'criterion': 'gini', 'min_samples_split': 5, 'max_features': 'sqrt', 'ccp_alpha': 0.009000000000000001}. Best is trial 15 with value: 0.9511842376945532.\n",
            "[I 2025-07-13 23:23:01,790] Trial 19 finished with value: 0.935263388457859 and parameters: {'max_depth': 18, 'min_samples_leaf': 1, 'criterion': 'gini', 'min_samples_split': 13, 'max_features': 0.5, 'ccp_alpha': 0.009000000000000001}. Best is trial 15 with value: 0.9511842376945532.\n"
          ]
        },
        {
          "name": "stderr",
          "output_type": "stream",
          "text": [
            "Best trial: 15. Best value: 0.951184:  20%|██        | 20/100 [00:00<00:03, 25.29it/s]"
          ]
        },
        {
          "name": "stdout",
          "output_type": "stream",
          "text": [
            "[I 2025-07-13 23:23:01,831] Trial 20 finished with value: 0.9404656244105786 and parameters: {'max_depth': 18, 'min_samples_leaf': 2, 'criterion': 'gini', 'min_samples_split': 9, 'max_features': 0.5, 'ccp_alpha': 0.01}. Best is trial 15 with value: 0.9511842376945532.\n",
            "Trial 20: 0.9405\n"
          ]
        },
        {
          "name": "stderr",
          "output_type": "stream",
          "text": [
            "Best trial: 15. Best value: 0.951184:  24%|██▍       | 24/100 [00:00<00:03, 24.97it/s]"
          ]
        },
        {
          "name": "stdout",
          "output_type": "stream",
          "text": [
            "[I 2025-07-13 23:23:01,873] Trial 21 finished with value: 0.9459912309436446 and parameters: {'max_depth': 18, 'min_samples_leaf': 2, 'criterion': 'gini', 'min_samples_split': 7, 'max_features': 0.5, 'ccp_alpha': 0.01}. Best is trial 15 with value: 0.9511842376945532.\n",
            "[I 2025-07-13 23:23:01,914] Trial 22 finished with value: 0.9472604695292255 and parameters: {'max_depth': 18, 'min_samples_leaf': 2, 'criterion': 'gini', 'min_samples_split': 4, 'max_features': 0.5, 'ccp_alpha': 0.008}. Best is trial 15 with value: 0.9511842376945532.\n",
            "[I 2025-07-13 23:23:01,955] Trial 23 finished with value: 0.9472604695292255 and parameters: {'max_depth': 18, 'min_samples_leaf': 2, 'criterion': 'gini', 'min_samples_split': 4, 'max_features': 0.5, 'ccp_alpha': 0.008}. Best is trial 15 with value: 0.9511842376945532.\n",
            "[I 2025-07-13 23:23:01,995] Trial 24 finished with value: 0.9472604695292255 and parameters: {'max_depth': 18, 'min_samples_leaf': 2, 'criterion': 'gini', 'min_samples_split': 4, 'max_features': 0.5, 'ccp_alpha': 0.008}. Best is trial 15 with value: 0.9511842376945532.\n"
          ]
        },
        {
          "name": "stderr",
          "output_type": "stream",
          "text": [
            "Best trial: 15. Best value: 0.951184:  26%|██▌       | 26/100 [00:00<00:02, 25.47it/s]"
          ]
        },
        {
          "name": "stdout",
          "output_type": "stream",
          "text": [
            "[I 2025-07-13 23:23:02,026] Trial 25 finished with value: 0.9354662439881526 and parameters: {'max_depth': 18, 'min_samples_leaf': 1, 'criterion': 'gini', 'min_samples_split': 8, 'max_features': 'sqrt', 'ccp_alpha': 0.006}. Best is trial 15 with value: 0.9511842376945532.\n"
          ]
        },
        {
          "name": "stderr",
          "output_type": "stream",
          "text": [
            "Best trial: 15. Best value: 0.951184:  29%|██▉       | 29/100 [00:01<00:02, 24.05it/s]"
          ]
        },
        {
          "name": "stdout",
          "output_type": "stream",
          "text": [
            "[I 2025-07-13 23:23:02,071] Trial 26 finished with value: 0.9456756847655848 and parameters: {'max_depth': 18, 'min_samples_leaf': 2, 'criterion': 'entropy', 'min_samples_split': 4, 'max_features': 0.5, 'ccp_alpha': 0.009000000000000001}. Best is trial 15 with value: 0.9511842376945532.\n",
            "[I 2025-07-13 23:23:02,125] Trial 27 finished with value: 0.9404451897995261 and parameters: {'max_depth': 18, 'min_samples_leaf': 1, 'criterion': 'gini', 'min_samples_split': 6, 'max_features': None, 'ccp_alpha': 0.006}. Best is trial 15 with value: 0.9511842376945532.\n",
            "[I 2025-07-13 23:23:02,166] Trial 28 finished with value: 0.9411168817565707 and parameters: {'max_depth': 18, 'min_samples_leaf': 1, 'criterion': 'gini', 'min_samples_split': 12, 'max_features': 0.5, 'ccp_alpha': 0.009000000000000001}. Best is trial 15 with value: 0.9511842376945532.\n",
            "[I 2025-07-13 23:23:02,206] Trial 29 finished with value: 0.9404656244105786 and parameters: {'max_depth': 18, 'min_samples_leaf': 2, 'criterion': 'gini', 'min_samples_split': 9, 'max_features': 0.5, 'ccp_alpha': 0.01}. Best is trial 15 with value: 0.9511842376945532.\n"
          ]
        },
        {
          "name": "stderr",
          "output_type": "stream",
          "text": [
            "                                                                                      \r"
          ]
        },
        {
          "name": "stdout",
          "output_type": "stream",
          "text": [
            "[I 2025-07-13 23:23:02,243] Trial 30 finished with value: 0.9341849528997764 and parameters: {'max_depth': 3, 'min_samples_leaf': 1, 'criterion': 'gini', 'min_samples_split': 6, 'max_features': 0.5, 'ccp_alpha': 0.008}. Best is trial 15 with value: 0.9511842376945532.\n"
          ]
        },
        {
          "name": "stderr",
          "output_type": "stream",
          "text": [
            "Best trial: 15. Best value: 0.951184:  35%|███▌      | 35/100 [00:01<00:02, 25.13it/s]"
          ]
        },
        {
          "name": "stdout",
          "output_type": "stream",
          "text": [
            "Trial 30: 0.9342\n",
            "[I 2025-07-13 23:23:02,285] Trial 31 finished with value: 0.9472604695292255 and parameters: {'max_depth': 18, 'min_samples_leaf': 2, 'criterion': 'gini', 'min_samples_split': 4, 'max_features': 0.5, 'ccp_alpha': 0.008}. Best is trial 15 with value: 0.9511842376945532.\n",
            "[I 2025-07-13 23:23:02,325] Trial 32 finished with value: 0.9468331191018748 and parameters: {'max_depth': 18, 'min_samples_leaf': 2, 'criterion': 'gini', 'min_samples_split': 4, 'max_features': 0.5, 'ccp_alpha': 0.004}. Best is trial 15 with value: 0.9511842376945532.\n",
            "[I 2025-07-13 23:23:02,366] Trial 33 finished with value: 0.9472604695292255 and parameters: {'max_depth': 18, 'min_samples_leaf': 2, 'criterion': 'gini', 'min_samples_split': 3, 'max_features': 0.5, 'ccp_alpha': 0.009000000000000001}. Best is trial 15 with value: 0.9511842376945532.\n",
            "[I 2025-07-13 23:23:02,397] Trial 34 finished with value: 0.9396684638691901 and parameters: {'max_depth': 12, 'min_samples_leaf': 2, 'criterion': 'gini', 'min_samples_split': 5, 'max_features': 'log2', 'ccp_alpha': 0.006}. Best is trial 15 with value: 0.9511842376945532.\n"
          ]
        },
        {
          "name": "stderr",
          "output_type": "stream",
          "text": [
            "Best trial: 15. Best value: 0.951184:  39%|███▉      | 39/100 [00:01<00:02, 23.22it/s]"
          ]
        },
        {
          "name": "stdout",
          "output_type": "stream",
          "text": [
            "[I 2025-07-13 23:23:02,451] Trial 35 finished with value: 0.9407124173309045 and parameters: {'max_depth': 18, 'min_samples_leaf': 2, 'criterion': 'gini', 'min_samples_split': 7, 'max_features': None, 'ccp_alpha': 0.008}. Best is trial 15 with value: 0.9511842376945532.\n",
            "[I 2025-07-13 23:23:02,507] Trial 36 finished with value: 0.9418011777752738 and parameters: {'max_depth': 12, 'min_samples_leaf': 1, 'criterion': 'entropy', 'min_samples_split': 5, 'max_features': 0.8, 'ccp_alpha': 0.01}. Best is trial 15 with value: 0.9511842376945532.\n",
            "[I 2025-07-13 23:23:02,548] Trial 37 finished with value: 0.9492358282077907 and parameters: {'max_depth': 18, 'min_samples_leaf': 3, 'criterion': 'gini', 'min_samples_split': 3, 'max_features': 0.5, 'ccp_alpha': 0.009000000000000001}. Best is trial 15 with value: 0.9511842376945532.\n",
            "[I 2025-07-13 23:23:02,580] Trial 38 finished with value: 0.9216739559308023 and parameters: {'max_depth': 3, 'min_samples_leaf': 3, 'criterion': 'entropy', 'min_samples_split': 3, 'max_features': 'sqrt', 'ccp_alpha': 0.0}. Best is trial 15 with value: 0.9511842376945532.\n",
            "[I 2025-07-13 23:23:02,610] Trial 39 finished with value: 0.9336350864333273 and parameters: {'max_depth': 18, 'min_samples_leaf': 3, 'criterion': 'gini', 'min_samples_split': 8, 'max_features': 'log2', 'ccp_alpha': 0.009000000000000001}. Best is trial 15 with value: 0.9511842376945532.\n"
          ]
        },
        {
          "name": "stderr",
          "output_type": "stream",
          "text": [
            "Best trial: 15. Best value: 0.951184:  44%|████▍     | 44/100 [00:01<00:02, 24.03it/s]"
          ]
        },
        {
          "name": "stdout",
          "output_type": "stream",
          "text": [
            "[I 2025-07-13 23:23:02,664] Trial 40 finished with value: 0.9399164162900918 and parameters: {'max_depth': 12, 'min_samples_leaf': 3, 'criterion': 'entropy', 'min_samples_split': 3, 'max_features': 0.8, 'ccp_alpha': 0.01}. Best is trial 15 with value: 0.9511842376945532.\n",
            "Trial 40: 0.9399\n",
            "[I 2025-07-13 23:23:02,707] Trial 41 finished with value: 0.9492358282077907 and parameters: {'max_depth': 18, 'min_samples_leaf': 3, 'criterion': 'gini', 'min_samples_split': 6, 'max_features': 0.5, 'ccp_alpha': 0.008}. Best is trial 15 with value: 0.9511842376945532.\n",
            "[I 2025-07-13 23:23:02,748] Trial 42 finished with value: 0.9492358282077907 and parameters: {'max_depth': 18, 'min_samples_leaf': 3, 'criterion': 'gini', 'min_samples_split': 6, 'max_features': 0.5, 'ccp_alpha': 0.009000000000000001}. Best is trial 15 with value: 0.9511842376945532.\n",
            "[I 2025-07-13 23:23:02,788] Trial 43 finished with value: 0.947564998499578 and parameters: {'max_depth': 18, 'min_samples_leaf': 3, 'criterion': 'gini', 'min_samples_split': 9, 'max_features': 0.5, 'ccp_alpha': 0.009000000000000001}. Best is trial 15 with value: 0.9511842376945532.\n",
            "[I 2025-07-13 23:23:02,830] Trial 44 finished with value: 0.9492358282077907 and parameters: {'max_depth': 18, 'min_samples_leaf': 3, 'criterion': 'gini', 'min_samples_split': 6, 'max_features': 0.5, 'ccp_alpha': 0.01}. Best is trial 15 with value: 0.9511842376945532.\n"
          ]
        },
        {
          "name": "stderr",
          "output_type": "stream",
          "text": [
            "Best trial: 15. Best value: 0.951184:  48%|████▊     | 48/100 [00:01<00:02, 24.41it/s]"
          ]
        },
        {
          "name": "stdout",
          "output_type": "stream",
          "text": [
            "[I 2025-07-13 23:23:02,867] Trial 45 finished with value: 0.9374613061761299 and parameters: {'max_depth': 3, 'min_samples_leaf': 3, 'criterion': 'gini', 'min_samples_split': 10, 'max_features': 0.5, 'ccp_alpha': 0.009000000000000001}. Best is trial 15 with value: 0.9511842376945532.\n",
            "[I 2025-07-13 23:23:02,907] Trial 46 finished with value: 0.9279221449653056 and parameters: {'max_depth': 18, 'min_samples_leaf': 3, 'criterion': 'gini', 'min_samples_split': 20, 'max_features': 0.5, 'ccp_alpha': 0.004}. Best is trial 15 with value: 0.9511842376945532.\n",
            "[I 2025-07-13 23:23:02,940] Trial 47 finished with value: 0.9377892725378191 and parameters: {'max_depth': 6, 'min_samples_leaf': 3, 'criterion': 'gini', 'min_samples_split': 7, 'max_features': 'log2', 'ccp_alpha': 0.007}. Best is trial 15 with value: 0.9511842376945532.\n",
            "[I 2025-07-13 23:23:02,988] Trial 48 finished with value: 0.9384923039172731 and parameters: {'max_depth': 18, 'min_samples_leaf': 3, 'criterion': 'gini', 'min_samples_split': 5, 'max_features': 0.8, 'ccp_alpha': 0.01}. Best is trial 15 with value: 0.9511842376945532.\n"
          ]
        },
        {
          "name": "stderr",
          "output_type": "stream",
          "text": [
            "Best trial: 15. Best value: 0.951184:  53%|█████▎    | 53/100 [00:02<00:01, 23.62it/s]"
          ]
        },
        {
          "name": "stdout",
          "output_type": "stream",
          "text": [
            "[I 2025-07-13 23:23:03,049] Trial 49 finished with value: 0.9378648470327668 and parameters: {'max_depth': 18, 'min_samples_leaf': 3, 'criterion': 'entropy', 'min_samples_split': 6, 'max_features': None, 'ccp_alpha': 0.009000000000000001}. Best is trial 15 with value: 0.9511842376945532.\n",
            "[I 2025-07-13 23:23:03,090] Trial 50 finished with value: 0.9421560180905975 and parameters: {'max_depth': 12, 'min_samples_leaf': 3, 'criterion': 'gini', 'min_samples_split': 10, 'max_features': 0.5, 'ccp_alpha': 0.008}. Best is trial 15 with value: 0.9511842376945532.\n",
            "Trial 50: 0.9422\n",
            "[I 2025-07-13 23:23:03,132] Trial 51 finished with value: 0.9492358282077907 and parameters: {'max_depth': 18, 'min_samples_leaf': 3, 'criterion': 'gini', 'min_samples_split': 6, 'max_features': 0.5, 'ccp_alpha': 0.01}. Best is trial 15 with value: 0.9511842376945532.\n",
            "[I 2025-07-13 23:23:03,172] Trial 52 finished with value: 0.9459912309436446 and parameters: {'max_depth': 18, 'min_samples_leaf': 3, 'criterion': 'gini', 'min_samples_split': 7, 'max_features': 0.5, 'ccp_alpha': 0.01}. Best is trial 15 with value: 0.9511842376945532.\n",
            "[I 2025-07-13 23:23:03,213] Trial 53 finished with value: 0.9459912309436446 and parameters: {'max_depth': 18, 'min_samples_leaf': 3, 'criterion': 'gini', 'min_samples_split': 8, 'max_features': 0.5, 'ccp_alpha': 0.009000000000000001}. Best is trial 15 with value: 0.9511842376945532.\n"
          ]
        },
        {
          "name": "stderr",
          "output_type": "stream",
          "text": [
            "Best trial: 15. Best value: 0.951184:  59%|█████▉    | 59/100 [00:02<00:01, 24.33it/s]"
          ]
        },
        {
          "name": "stdout",
          "output_type": "stream",
          "text": [
            "[I 2025-07-13 23:23:03,255] Trial 54 finished with value: 0.9451833715896492 and parameters: {'max_depth': 18, 'min_samples_leaf': 3, 'criterion': 'gini', 'min_samples_split': 5, 'max_features': 0.5, 'ccp_alpha': 0.002}. Best is trial 15 with value: 0.9511842376945532.\n",
            "[I 2025-07-13 23:23:03,297] Trial 55 finished with value: 0.9492358282077907 and parameters: {'max_depth': 6, 'min_samples_leaf': 3, 'criterion': 'gini', 'min_samples_split': 3, 'max_features': 0.5, 'ccp_alpha': 0.01}. Best is trial 15 with value: 0.9511842376945532.\n",
            "[I 2025-07-13 23:23:03,330] Trial 56 finished with value: 0.9239357701023024 and parameters: {'max_depth': 18, 'min_samples_leaf': 1, 'criterion': 'gini', 'min_samples_split': 14, 'max_features': 'sqrt', 'ccp_alpha': 0.01}. Best is trial 15 with value: 0.9511842376945532.\n",
            "[I 2025-07-13 23:23:03,371] Trial 57 finished with value: 0.9492358282077907 and parameters: {'max_depth': 18, 'min_samples_leaf': 3, 'criterion': 'gini', 'min_samples_split': 6, 'max_features': 0.5, 'ccp_alpha': 0.009000000000000001}. Best is trial 15 with value: 0.9511842376945532.\n",
            "[I 2025-07-13 23:23:03,413] Trial 58 finished with value: 0.9411168817565707 and parameters: {'max_depth': 18, 'min_samples_leaf': 1, 'criterion': 'gini', 'min_samples_split': 11, 'max_features': 0.5, 'ccp_alpha': 0.01}. Best is trial 15 with value: 0.9511842376945532.\n"
          ]
        },
        {
          "name": "stderr",
          "output_type": "stream",
          "text": [
            "Best trial: 15. Best value: 0.951184:  63%|██████▎   | 63/100 [00:02<00:01, 24.41it/s]"
          ]
        },
        {
          "name": "stdout",
          "output_type": "stream",
          "text": [
            "[I 2025-07-13 23:23:03,450] Trial 59 finished with value: 0.9451104301080961 and parameters: {'max_depth': 3, 'min_samples_leaf': 3, 'criterion': 'gini', 'min_samples_split': 16, 'max_features': 0.5, 'ccp_alpha': 0.009000000000000001}. Best is trial 15 with value: 0.9511842376945532.\n",
            "[I 2025-07-13 23:23:03,492] Trial 60 finished with value: 0.9438671567840735 and parameters: {'max_depth': 18, 'min_samples_leaf': 1, 'criterion': 'gini', 'min_samples_split': 9, 'max_features': 0.5, 'ccp_alpha': 0.008}. Best is trial 15 with value: 0.9511842376945532.\n",
            "Trial 60: 0.9439\n",
            "[I 2025-07-13 23:23:03,534] Trial 61 finished with value: 0.9492358282077907 and parameters: {'max_depth': 18, 'min_samples_leaf': 3, 'criterion': 'gini', 'min_samples_split': 6, 'max_features': 0.5, 'ccp_alpha': 0.01}. Best is trial 15 with value: 0.9511842376945532.\n",
            "[I 2025-07-13 23:23:03,577] Trial 62 finished with value: 0.9459912309436446 and parameters: {'max_depth': 18, 'min_samples_leaf': 3, 'criterion': 'gini', 'min_samples_split': 7, 'max_features': 0.5, 'ccp_alpha': 0.01}. Best is trial 15 with value: 0.9511842376945532.\n",
            "[I 2025-07-13 23:23:03,618] Trial 63 finished with value: 0.9492358282077907 and parameters: {'max_depth': 18, 'min_samples_leaf': 3, 'criterion': 'gini', 'min_samples_split': 6, 'max_features': 0.5, 'ccp_alpha': 0.01}. Best is trial 15 with value: 0.9511842376945532.\n"
          ]
        },
        {
          "name": "stderr",
          "output_type": "stream",
          "text": [
            "Best trial: 15. Best value: 0.951184:  68%|██████▊   | 68/100 [00:02<00:01, 23.33it/s]"
          ]
        },
        {
          "name": "stdout",
          "output_type": "stream",
          "text": [
            "[I 2025-07-13 23:23:03,659] Trial 64 finished with value: 0.9459912309436446 and parameters: {'max_depth': 18, 'min_samples_leaf': 3, 'criterion': 'gini', 'min_samples_split': 8, 'max_features': 0.5, 'ccp_alpha': 0.009000000000000001}. Best is trial 15 with value: 0.9511842376945532.\n",
            "[I 2025-07-13 23:23:03,702] Trial 65 finished with value: 0.9447584845567285 and parameters: {'max_depth': 18, 'min_samples_leaf': 1, 'criterion': 'gini', 'min_samples_split': 2, 'max_features': 0.5, 'ccp_alpha': 0.009000000000000001}. Best is trial 15 with value: 0.9511842376945532.\n",
            "[I 2025-07-13 23:23:03,758] Trial 66 finished with value: 0.9404630820348402 and parameters: {'max_depth': 18, 'min_samples_leaf': 3, 'criterion': 'gini', 'min_samples_split': 5, 'max_features': None, 'ccp_alpha': 0.01}. Best is trial 15 with value: 0.9511842376945532.\n",
            "[I 2025-07-13 23:23:03,800] Trial 67 finished with value: 0.9491290740814715 and parameters: {'max_depth': 6, 'min_samples_leaf': 1, 'criterion': 'gini', 'min_samples_split': 6, 'max_features': 0.5, 'ccp_alpha': 0.007}. Best is trial 15 with value: 0.9511842376945532.\n",
            "[I 2025-07-13 23:23:03,834] Trial 68 finished with value: 0.9302239453453465 and parameters: {'max_depth': 18, 'min_samples_leaf': 3, 'criterion': 'entropy', 'min_samples_split': 7, 'max_features': 'sqrt', 'ccp_alpha': 0.008}. Best is trial 15 with value: 0.9511842376945532.\n"
          ]
        },
        {
          "name": "stderr",
          "output_type": "stream",
          "text": [
            "Best trial: 15. Best value: 0.951184:  74%|███████▍  | 74/100 [00:03<00:01, 24.07it/s]"
          ]
        },
        {
          "name": "stdout",
          "output_type": "stream",
          "text": [
            "[I 2025-07-13 23:23:03,876] Trial 69 finished with value: 0.9492358282077907 and parameters: {'max_depth': 18, 'min_samples_leaf': 3, 'criterion': 'gini', 'min_samples_split': 4, 'max_features': 0.5, 'ccp_alpha': 0.009000000000000001}. Best is trial 15 with value: 0.9511842376945532.\n",
            "[I 2025-07-13 23:23:03,907] Trial 70 finished with value: 0.9342983225682616 and parameters: {'max_depth': 18, 'min_samples_leaf': 1, 'criterion': 'gini', 'min_samples_split': 8, 'max_features': 'log2', 'ccp_alpha': 0.01}. Best is trial 15 with value: 0.9511842376945532.\n",
            "Trial 70: 0.9343\n",
            "[I 2025-07-13 23:23:03,950] Trial 71 finished with value: 0.9492358282077907 and parameters: {'max_depth': 6, 'min_samples_leaf': 3, 'criterion': 'gini', 'min_samples_split': 3, 'max_features': 0.5, 'ccp_alpha': 0.01}. Best is trial 15 with value: 0.9511842376945532.\n",
            "[I 2025-07-13 23:23:03,993] Trial 72 finished with value: 0.9492358282077907 and parameters: {'max_depth': 6, 'min_samples_leaf': 3, 'criterion': 'gini', 'min_samples_split': 3, 'max_features': 0.5, 'ccp_alpha': 0.01}. Best is trial 15 with value: 0.9511842376945532.\n",
            "[I 2025-07-13 23:23:04,037] Trial 73 finished with value: 0.9492358282077907 and parameters: {'max_depth': 6, 'min_samples_leaf': 3, 'criterion': 'gini', 'min_samples_split': 2, 'max_features': 0.5, 'ccp_alpha': 0.009000000000000001}. Best is trial 15 with value: 0.9511842376945532.\n"
          ]
        },
        {
          "name": "stderr",
          "output_type": "stream",
          "text": [
            "Best trial: 15. Best value: 0.951184:  77%|███████▋  | 77/100 [00:03<00:00, 23.50it/s]"
          ]
        },
        {
          "name": "stdout",
          "output_type": "stream",
          "text": [
            "[I 2025-07-13 23:23:04,080] Trial 74 finished with value: 0.9492358282077907 and parameters: {'max_depth': 6, 'min_samples_leaf': 3, 'criterion': 'gini', 'min_samples_split': 5, 'max_features': 0.5, 'ccp_alpha': 0.01}. Best is trial 15 with value: 0.9511842376945532.\n",
            "[I 2025-07-13 23:23:04,129] Trial 75 finished with value: 0.9384923039172731 and parameters: {'max_depth': 6, 'min_samples_leaf': 3, 'criterion': 'gini', 'min_samples_split': 4, 'max_features': 0.8, 'ccp_alpha': 0.009000000000000001}. Best is trial 15 with value: 0.9511842376945532.\n",
            "[I 2025-07-13 23:23:04,173] Trial 76 finished with value: 0.9492768997009954 and parameters: {'max_depth': 12, 'min_samples_leaf': 1, 'criterion': 'gini', 'min_samples_split': 5, 'max_features': 0.5, 'ccp_alpha': 0.01}. Best is trial 15 with value: 0.9511842376945532.\n",
            "[I 2025-07-13 23:23:04,216] Trial 77 finished with value: 0.9492768997009954 and parameters: {'max_depth': 12, 'min_samples_leaf': 1, 'criterion': 'gini', 'min_samples_split': 5, 'max_features': 0.5, 'ccp_alpha': 0.008}. Best is trial 15 with value: 0.9511842376945532.\n"
          ]
        },
        {
          "name": "stderr",
          "output_type": "stream",
          "text": [
            "Best trial: 15. Best value: 0.951184:  83%|████████▎ | 83/100 [00:03<00:00, 23.22it/s]"
          ]
        },
        {
          "name": "stdout",
          "output_type": "stream",
          "text": [
            "[I 2025-07-13 23:23:04,262] Trial 78 finished with value: 0.9419432383489921 and parameters: {'max_depth': 12, 'min_samples_leaf': 1, 'criterion': 'entropy', 'min_samples_split': 5, 'max_features': 0.5, 'ccp_alpha': 0.008}. Best is trial 15 with value: 0.9511842376945532.\n",
            "[I 2025-07-13 23:23:04,305] Trial 79 finished with value: 0.948849549273645 and parameters: {'max_depth': 12, 'min_samples_leaf': 1, 'criterion': 'gini', 'min_samples_split': 5, 'max_features': 0.5, 'ccp_alpha': 0.006}. Best is trial 15 with value: 0.9511842376945532.\n",
            "[I 2025-07-13 23:23:04,349] Trial 80 finished with value: 0.9468331191018748 and parameters: {'max_depth': 12, 'min_samples_leaf': 1, 'criterion': 'gini', 'min_samples_split': 4, 'max_features': 0.5, 'ccp_alpha': 0.007}. Best is trial 15 with value: 0.9511842376945532.\n",
            "Trial 80: 0.9468\n",
            "[I 2025-07-13 23:23:04,391] Trial 81 finished with value: 0.9495564245088219 and parameters: {'max_depth': 12, 'min_samples_leaf': 1, 'criterion': 'gini', 'min_samples_split': 6, 'max_features': 0.5, 'ccp_alpha': 0.008}. Best is trial 15 with value: 0.9511842376945532.\n",
            "[I 2025-07-13 23:23:04,435] Trial 82 finished with value: 0.9495564245088219 and parameters: {'max_depth': 12, 'min_samples_leaf': 1, 'criterion': 'gini', 'min_samples_split': 6, 'max_features': 0.5, 'ccp_alpha': 0.008}. Best is trial 15 with value: 0.9511842376945532.\n"
          ]
        },
        {
          "name": "stderr",
          "output_type": "stream",
          "text": [
            "Best trial: 15. Best value: 0.951184:  86%|████████▌ | 86/100 [00:03<00:00, 23.04it/s]"
          ]
        },
        {
          "name": "stdout",
          "output_type": "stream",
          "text": [
            "[I 2025-07-13 23:23:04,479] Trial 83 finished with value: 0.9511842376945532 and parameters: {'max_depth': 12, 'min_samples_leaf': 1, 'criterion': 'gini', 'min_samples_split': 7, 'max_features': 0.5, 'ccp_alpha': 0.008}. Best is trial 15 with value: 0.9511842376945532.\n",
            "[I 2025-07-13 23:23:04,523] Trial 84 finished with value: 0.9511842376945532 and parameters: {'max_depth': 12, 'min_samples_leaf': 1, 'criterion': 'gini', 'min_samples_split': 7, 'max_features': 0.5, 'ccp_alpha': 0.008}. Best is trial 15 with value: 0.9511842376945532.\n",
            "[I 2025-07-13 23:23:04,566] Trial 85 finished with value: 0.9511842376945532 and parameters: {'max_depth': 12, 'min_samples_leaf': 1, 'criterion': 'gini', 'min_samples_split': 7, 'max_features': 0.5, 'ccp_alpha': 0.008}. Best is trial 15 with value: 0.9511842376945532.\n",
            "[I 2025-07-13 23:23:04,624] Trial 86 finished with value: 0.934400126601138 and parameters: {'max_depth': 12, 'min_samples_leaf': 1, 'criterion': 'gini', 'min_samples_split': 7, 'max_features': None, 'ccp_alpha': 0.007}. Best is trial 15 with value: 0.9511842376945532.\n"
          ]
        },
        {
          "name": "stderr",
          "output_type": "stream",
          "text": [
            "Best trial: 15. Best value: 0.951184:  92%|█████████▏| 92/100 [00:03<00:00, 23.19it/s]"
          ]
        },
        {
          "name": "stdout",
          "output_type": "stream",
          "text": [
            "[I 2025-07-13 23:23:04,667] Trial 87 finished with value: 0.9508597767467537 and parameters: {'max_depth': 12, 'min_samples_leaf': 1, 'criterion': 'gini', 'min_samples_split': 7, 'max_features': 0.5, 'ccp_alpha': 0.007}. Best is trial 15 with value: 0.9511842376945532.\n",
            "[I 2025-07-13 23:23:04,698] Trial 88 finished with value: 0.9303043568219265 and parameters: {'max_depth': 12, 'min_samples_leaf': 1, 'criterion': 'gini', 'min_samples_split': 8, 'max_features': 'log2', 'ccp_alpha': 0.006}. Best is trial 15 with value: 0.9511842376945532.\n",
            "[I 2025-07-13 23:23:04,749] Trial 89 finished with value: 0.938177893713689 and parameters: {'max_depth': 12, 'min_samples_leaf': 1, 'criterion': 'gini', 'min_samples_split': 9, 'max_features': 0.8, 'ccp_alpha': 0.007}. Best is trial 15 with value: 0.9511842376945532.\n",
            "[I 2025-07-13 23:23:04,782] Trial 90 finished with value: 0.9355313957775605 and parameters: {'max_depth': 12, 'min_samples_leaf': 1, 'criterion': 'gini', 'min_samples_split': 7, 'max_features': 'sqrt', 'ccp_alpha': 0.005}. Best is trial 15 with value: 0.9511842376945532.\n",
            "Trial 90: 0.9355\n",
            "[I 2025-07-13 23:23:04,825] Trial 91 finished with value: 0.9388918568546453 and parameters: {'max_depth': 12, 'min_samples_leaf': 1, 'criterion': 'gini', 'min_samples_split': 8, 'max_features': 0.5, 'ccp_alpha': 0.008}. Best is trial 15 with value: 0.9511842376945532.\n"
          ]
        },
        {
          "name": "stderr",
          "output_type": "stream",
          "text": [
            "Best trial: 15. Best value: 0.951184:  95%|█████████▌| 95/100 [00:03<00:00, 22.62it/s]"
          ]
        },
        {
          "name": "stdout",
          "output_type": "stream",
          "text": [
            "[I 2025-07-13 23:23:04,869] Trial 92 finished with value: 0.9508597767467537 and parameters: {'max_depth': 12, 'min_samples_leaf': 1, 'criterion': 'gini', 'min_samples_split': 7, 'max_features': 0.5, 'ccp_alpha': 0.007}. Best is trial 15 with value: 0.9511842376945532.\n",
            "[I 2025-07-13 23:23:04,921] Trial 93 finished with value: 0.9508597767467537 and parameters: {'max_depth': 12, 'min_samples_leaf': 1, 'criterion': 'gini', 'min_samples_split': 7, 'max_features': 0.5, 'ccp_alpha': 0.007}. Best is trial 15 with value: 0.9511842376945532.\n",
            "[I 2025-07-13 23:23:04,965] Trial 94 finished with value: 0.9508597767467537 and parameters: {'max_depth': 12, 'min_samples_leaf': 1, 'criterion': 'gini', 'min_samples_split': 7, 'max_features': 0.5, 'ccp_alpha': 0.007}. Best is trial 15 with value: 0.9511842376945532.\n",
            "[I 2025-07-13 23:23:05,008] Trial 95 finished with value: 0.9508597767467537 and parameters: {'max_depth': 12, 'min_samples_leaf': 1, 'criterion': 'gini', 'min_samples_split': 7, 'max_features': 0.5, 'ccp_alpha': 0.007}. Best is trial 15 with value: 0.9511842376945532.\n"
          ]
        },
        {
          "name": "stderr",
          "output_type": "stream",
          "text": [
            "Best trial: 15. Best value: 0.951184: 100%|██████████| 100/100 [00:04<00:00, 23.99it/s]"
          ]
        },
        {
          "name": "stdout",
          "output_type": "stream",
          "text": [
            "[I 2025-07-13 23:23:05,061] Trial 96 finished with value: 0.9421713229133347 and parameters: {'max_depth': 12, 'min_samples_leaf': 1, 'criterion': 'entropy', 'min_samples_split': 7, 'max_features': 0.5, 'ccp_alpha': 0.007}. Best is trial 15 with value: 0.9511842376945532.\n",
            "[I 2025-07-13 23:23:05,109] Trial 97 finished with value: 0.9393674081666779 and parameters: {'max_depth': 12, 'min_samples_leaf': 1, 'criterion': 'gini', 'min_samples_split': 10, 'max_features': 0.5, 'ccp_alpha': 0.006}. Best is trial 15 with value: 0.9511842376945532.\n",
            "[I 2025-07-13 23:23:05,152] Trial 98 finished with value: 0.9434398063567231 and parameters: {'max_depth': 12, 'min_samples_leaf': 1, 'criterion': 'gini', 'min_samples_split': 9, 'max_features': 0.5, 'ccp_alpha': 0.006}. Best is trial 15 with value: 0.9511842376945532.\n",
            "[I 2025-07-13 23:23:05,196] Trial 99 finished with value: 0.9508597767467537 and parameters: {'max_depth': 12, 'min_samples_leaf': 1, 'criterion': 'gini', 'min_samples_split': 7, 'max_features': 0.5, 'ccp_alpha': 0.007}. Best is trial 15 with value: 0.9511842376945532.\n",
            "\n",
            "Tiempo de búsqueda: 4.171s\n",
            "Trials completados: 100\n",
            "Trials probados: 0\n",
            "\n",
            "============================================================\n",
            "MEJORES RESULTADOS - OPTUNA\n",
            "============================================================\n",
            "Mejor F1-score: 0.951184\n",
            "Mejores hiperparámetros:\n",
            "   max_depth: 18\n",
            "   min_samples_leaf: 1\n",
            "   criterion: gini\n",
            "   min_samples_split: 7\n",
            "   max_features: 0.5\n",
            "   ccp_alpha: 0.01\n",
            "\n",
            "Métricas adicionales del mejor trial:\n",
            "   F1 std: 0.0136\n",
            "   Accuracy mean: 0.9390\n",
            "   Accuracy std: 0.0172\n"
          ]
        },
        {
          "name": "stderr",
          "output_type": "stream",
          "text": [
            "\n"
          ]
        }
      ],
      "source": [
        "# Crear estudio de Optuna con configuración avanzada\n",
        "study_enhanced = optuna.create_study(\n",
        "    direction='maximize',  # Maximizar F1-score\n",
        "    sampler=TPESampler(seed=42, n_startup_trials=10),  # Más trials antes de usar TPE\n",
        "    pruner=MedianPruner(\n",
        "        n_startup_trials=5, \n",
        "        n_warmup_steps=10,\n",
        "        interval_steps=1\n",
        "    ),  # Pruning más agresivo\n",
        "    study_name=\"DecisionTree_Enhanced_Hyperparameter_Search\"\n",
        ")\n",
        "\n",
        "print(\"Configuración:\")\n",
        "print(f\"   Dirección: {study_enhanced.direction}\")\n",
        "print(f\"   Sampler: {study_enhanced.sampler.__class__.__name__}\")\n",
        "print(f\"   Pruner: {study_enhanced.pruner.__class__.__name__}\")\n",
        "print(f\"   Startup trials: 10 (vs 5 por defecto)\")\n",
        "\n",
        "# Ejecutar la optimización con más trials\n",
        "n_trials = 100\n",
        "print(f\"\\nIniciando optimización con {n_trials} trials...\")\n",
        "print(\"=\"*60)\n",
        "\n",
        "t0 = time.time()\n",
        "study_enhanced.optimize(\n",
        "    objective, \n",
        "    n_trials=n_trials,\n",
        "    show_progress_bar=True,  # Barra de progreso\n",
        "    callbacks=[lambda study, trial: print(f\"Trial {trial.number}: {trial.value:.4f}\")\n",
        "               if trial.number % 10 == 0 else None]  # Progreso cada 10 trials\n",
        ")\n",
        "optimization_time = time.time() - t0\n",
        "\n",
        "print(f\"\\nTiempo de búsqueda: {optimization_time:.3f}s\")\n",
        "print(f\"Trials completados: {len([t for t in study_enhanced.trials if t.state == optuna.trial.TrialState.COMPLETE])}\")\n",
        "print(f\"Trials probados: {len([t for t in study_enhanced.trials if t.state == optuna.trial.TrialState.PRUNED])}\")\n",
        "\n",
        "# Mostrar resultados\n",
        "print(\"\\n\" + \"=\"*60)\n",
        "print(\"MEJORES RESULTADOS - OPTUNA\")\n",
        "print(\"=\"*60)\n",
        "print(f\"Mejor F1-score: {study_enhanced.best_value:.6f}\")\n",
        "print(f\"Mejores hiperparámetros:\")\n",
        "for param, value in study_enhanced.best_params.items():\n",
        "    print(f\"   {param}: {value}\")\n",
        "\n",
        "# Mostrar métricas adicionales del mejor trial\n",
        "best_trial = study_enhanced.best_trial\n",
        "print(f\"\\nMétricas adicionales del mejor trial:\")\n",
        "print(f\"   F1 std: {best_trial.user_attrs.get('f1_std', 'N/A'):.4f}\")\n",
        "print(f\"   Accuracy mean: {best_trial.user_attrs.get('accuracy_mean', 'N/A'):.4f}\")\n",
        "print(f\"   Accuracy std: {best_trial.user_attrs.get('accuracy_std', 'N/A'):.4f}\")"
      ]
    },
    {
      "cell_type": "code",
      "execution_count": 15,
      "metadata": {},
      "outputs": [
        {
          "data": {
            "image/png": "[encoded data removed]",
            "text/plain": [
              "<Figure size 1500x1000 with 4 Axes>"
            ]
          },
          "metadata": {},
          "output_type": "display_data"
        },
        {
          "name": "stdout",
          "output_type": "stream",
          "text": [
            "\n",
            "ESTADÍSTICAS DE VISUALIZACIÓN:\n",
            "========================================\n",
            "Trials graficados: 100\n",
            "Mejor trial: #15\n",
            "Mejora total: 0.0295\n",
            "Convergencia en trial: 15\n"
          ]
        }
      ],
      "source": [
        "# VISUALIZACIONES CON MATPLOTLI\n",
        "\n",
        "# Preparar datos para visualización\n",
        "completed_trials = [t for t in study_enhanced.trials if t.value is not None]\n",
        "trial_numbers = [t.number for t in completed_trials]\n",
        "trial_values = [t.value for t in completed_trials]\n",
        "\n",
        "# Crear subplots\n",
        "fig, ((ax1, ax2), (ax3, ax4)) = plt.subplots(2, 2, figsize=(15, 10))\n",
        "\n",
        "# 1. Historia de optimización\n",
        "ax1.plot(trial_numbers, trial_values, 'b-', alpha=0.6, linewidth=1)\n",
        "ax1.scatter(trial_numbers, trial_values, c=trial_values, cmap='viridis', s=20, alpha=0.7)\n",
        "ax1.set_xlabel('Trial')\n",
        "ax1.set_ylabel('F1-Score')\n",
        "ax1.set_title('Historia de Optimización')\n",
        "ax1.grid(True, alpha=0.3)\n",
        "\n",
        "# Añadir línea del mejor valor\n",
        "best_value_line = [study_enhanced.best_value] * len(trial_numbers)\n",
        "ax1.plot(trial_numbers, best_value_line, 'r--', alpha=0.8, linewidth=2, label=f'Mejor: {study_enhanced.best_value:.4f}')\n",
        "ax1.legend()\n",
        "\n",
        "# 2. Distribución de scores\n",
        "ax2.hist(trial_values, bins=20, alpha=0.7, edgecolor='black', color='skyblue')\n",
        "ax2.axvline(study_enhanced.best_value, color='red', linestyle='--', linewidth=2, label=f'Mejor: {study_enhanced.best_value:.4f}')\n",
        "ax2.set_xlabel('F1-Score')\n",
        "ax2.set_ylabel('Frecuencia')\n",
        "ax2.set_title('Distribución de F1-Scores')\n",
        "ax2.legend()\n",
        "ax2.grid(True, alpha=0.3)\n",
        "\n",
        "# 3. Análisis de parámetros (si hay suficientes trials)\n",
        "if len(completed_trials) > 10:\n",
        "    try:\n",
        "        from optuna.importance import get_param_importances\n",
        "        importance = get_param_importances(study_enhanced)\n",
        "        \n",
        "        params = list(importance.keys())\n",
        "        values = list(importance.values())\n",
        "        \n",
        "        ax3.barh(params, values, color='lightgreen')\n",
        "        ax3.set_xlabel('Importancia')\n",
        "        ax3.set_title('Importancia de Hiperparámetros')\n",
        "        ax3.grid(True, alpha=0.3)\n",
        "    except:\n",
        "        ax3.text(0.5, 0.5, 'Importancia no disponible\\n(necesita más diversidad)', \n",
        "                ha='center', va='center', transform=ax3.transAxes, fontsize=12)\n",
        "        ax3.set_title('Importancia de Hiperparámetros')\n",
        "else:\n",
        "    ax3.text(0.5, 0.5, 'Insuficientes trials\\npara calcular importancia', \n",
        "            ha='center', va='center', transform=ax3.transAxes, fontsize=12)\n",
        "    ax3.set_title('Importancia de Hiperparámetros')\n",
        "\n",
        "# 4. Evolución del mejor score\n",
        "best_so_far = []\n",
        "current_best = -np.inf\n",
        "for value in trial_values:\n",
        "    if value > current_best:\n",
        "        current_best = value\n",
        "    best_so_far.append(current_best)\n",
        "\n",
        "ax4.plot(trial_numbers, best_so_far, 'g-', linewidth=2, marker='o', markersize=3)\n",
        "ax4.set_xlabel('Trial')\n",
        "ax4.set_ylabel('Mejor F1-Score hasta el momento')\n",
        "ax4.set_title('Evolución del Mejor Score')\n",
        "ax4.grid(True, alpha=0.3)\n",
        "\n",
        "plt.tight_layout()\n",
        "plt.show()\n",
        "\n",
        "# Mostrar algunas estadísticas adicionales\n",
        "print(\"\\nESTADÍSTICAS DE VISUALIZACIÓN:\")\n",
        "print(\"=\"*40)\n",
        "print(f\"Trials graficados: {len(completed_trials)}\")\n",
        "print(f\"Mejor trial: #{study_enhanced.best_trial.number}\")\n",
        "print(f\"Mejora total: {max(trial_values) - min(trial_values):.4f}\")\n",
        "print(f\"Convergencia en trial: {trial_numbers[best_so_far.index(max(best_so_far))]}\")"
      ]
    },
    {
      "cell_type": "code",
      "execution_count": 16,
      "metadata": {},
      "outputs": [
        {
          "name": "stdout",
          "output_type": "stream",
          "text": [
            "TABLA COMPARATIVA FINAL\n",
            "================================================================================\n",
            "            Método  CV Score  Test F1-Score  Test Accuracy  Evaluaciones  Hiperparámetros     Algoritmo\n",
            "      GridSearchCV    0.9483         0.9333         0.9161            24                3    Exhaustivo\n",
            "RandomizedSearchCV    0.9319         0.9392         0.9231            10                3     Aleatorio\n",
            "            Optuna    0.9512         0.9438         0.9301           100                6 TPE + Pruning\n"
          ]
        },
        {
          "data": {
            "image/png": "[encoded data removed]",
            "text/plain": [
              "<Figure size 1500x1200 with 4 Axes>"
            ]
          },
          "metadata": {},
          "output_type": "display_data"
        },
        {
          "name": "stdout",
          "output_type": "stream",
          "text": [
            "\n",
            "RESULTADOS FINALES:\n",
            "==================================================\n",
            "Mejor CV Score: Optuna (0.9512)\n",
            "Mejor Test F1: Optuna (0.9438)\n",
            "Más Eficiente: RandomizedSearchCV (93.92)\n"
          ]
        }
      ],
      "source": [
        "# Crear las variables necesarias para la comparación\n",
        "best_clf_optuna = DecisionTreeClassifier(**study_enhanced.best_params, random_state=42)\n",
        "best_clf_optuna.fit(X_train, y_train)\n",
        "\n",
        "# Evaluación en conjunto de test\n",
        "y_pred_test = best_clf_optuna.predict(X_test)\n",
        "test_f1 = f1_score(y_test, y_pred_test)\n",
        "test_accuracy = accuracy_score(y_test, y_pred_test)\n",
        "\n",
        "# COMPARACIÓN COMPREHENSIVA DE LOS 3 MÉTODOS\n",
        "\n",
        "import pandas as pd\n",
        "import matplotlib.pyplot as plt\n",
        "\n",
        "# Recopilar métricas de todos los métodos\n",
        "methods_comparison = {\n",
        "    'Método': ['GridSearchCV', 'RandomizedSearchCV', 'Optuna'],\n",
        "    'CV Score': [gs.best_score_, rs.best_score_, study_enhanced.best_value],\n",
        "    'Test F1-Score': [\n",
        "        f1_score(y_test, gs.best_estimator_.predict(X_test)),\n",
        "        f1_score(y_test, rs.best_estimator_.predict(X_test)),\n",
        "        test_f1\n",
        "    ],\n",
        "    'Test Accuracy': [\n",
        "        accuracy_score(y_test, gs.best_estimator_.predict(X_test)),\n",
        "        accuracy_score(y_test, rs.best_estimator_.predict(X_test)),\n",
        "        test_accuracy\n",
        "    ],\n",
        "    'Evaluaciones': [\n",
        "        len(gs.cv_results_['params']),\n",
        "        len(rs.cv_results_['params']), \n",
        "        len(completed_trials)\n",
        "    ],\n",
        "    'Hiperparámetros': [3, 3, 6],  # Número de hiperparámetros optimizados\n",
        "    'Algoritmo': ['Exhaustivo', 'Aleatorio', 'TPE + Pruning']\n",
        "}\n",
        "\n",
        "df_comparison = pd.DataFrame(methods_comparison)\n",
        "\n",
        "print(\"TABLA COMPARATIVA FINAL\")\n",
        "print(\"=\"*80)\n",
        "print(df_comparison.to_string(index=False, float_format='%.4f'))\n",
        "\n",
        "# Visualización comparativa\n",
        "fig, ((ax1, ax2), (ax3, ax4)) = plt.subplots(2, 2, figsize=(15, 12))\n",
        "\n",
        "# Gráfico 1: Scores de validación cruzada\n",
        "methods = df_comparison['Método']\n",
        "cv_scores = df_comparison['CV Score']\n",
        "test_f1_scores = df_comparison['Test F1-Score']\n",
        "\n",
        "x = np.arange(len(methods))\n",
        "width = 0.35\n",
        "\n",
        "bars1 = ax1.bar(x - width/2, cv_scores, width, label='CV Score', alpha=0.8, color='skyblue')\n",
        "bars2 = ax1.bar(x + width/2, test_f1_scores, width, label='Test F1-Score', alpha=0.8, color='lightcoral')\n",
        "\n",
        "ax1.set_xlabel('Métodos')\n",
        "ax1.set_ylabel('Score')\n",
        "ax1.set_title('Comparación de Performance')\n",
        "ax1.set_xticks(x)\n",
        "ax1.set_xticklabels(methods, rotation=45)\n",
        "ax1.legend()\n",
        "ax1.grid(True, alpha=0.3)\n",
        "\n",
        "# Añadir valores en las barras\n",
        "for bar in bars1 + bars2:\n",
        "    height = bar.get_height()\n",
        "    ax1.text(bar.get_x() + bar.get_width()/2., height + 0.001,\n",
        "             f'{height:.3f}', ha='center', va='bottom', fontsize=9)\n",
        "\n",
        "# Gráfico 2: Número de evaluaciones\n",
        "evaluations = df_comparison['Evaluaciones']\n",
        "colors = ['lightblue', 'lightgreen', 'lightsalmon']\n",
        "bars = ax2.bar(methods, evaluations, color=colors)\n",
        "ax2.set_xlabel('Métodos')\n",
        "ax2.set_ylabel('Número de Evaluaciones')\n",
        "ax2.set_title('Eficiencia: Evaluaciones Realizadas')\n",
        "ax2.grid(True, alpha=0.3)\n",
        "\n",
        "for i, bar in enumerate(bars):\n",
        "    height = bar.get_height()\n",
        "    ax2.text(bar.get_x() + bar.get_width()/2., height + 1,\n",
        "             str(int(height)), ha='center', va='bottom', fontsize=10)\n",
        "\n",
        "# Gráfico 3: Número de hiperparámetros\n",
        "hiperparams = df_comparison['Hiperparámetros']\n",
        "ax3.bar(methods, hiperparams, color=['#FF6B6B', '#4ECDC4', '#45B7D1'])\n",
        "ax3.set_xlabel('Métodos')\n",
        "ax3.set_ylabel('Número de Hiperparámetros')\n",
        "ax3.set_title('Complejidad del Espacio de Búsqueda')\n",
        "ax3.grid(True, alpha=0.3)\n",
        "\n",
        "for i, v in enumerate(hiperparams):\n",
        "    ax3.text(i, v + 0.05, str(v), ha='center', va='bottom', fontsize=12, fontweight='bold')\n",
        "\n",
        "# Gráfico 4: Eficiencia (Score/Evaluación)\n",
        "efficiency = np.array(test_f1_scores) / np.array(evaluations) * 1000  # × 1000 para mejor escala\n",
        "ax4.bar(methods, efficiency, color=['gold', 'silver', '#CD7F32'])\n",
        "ax4.set_xlabel('Métodos')\n",
        "ax4.set_ylabel('Eficiencia (F1-Score × 1000 / Evaluaciones)')\n",
        "ax4.set_title('Eficiencia: Score por Evaluación')\n",
        "ax4.grid(True, alpha=0.3)\n",
        "\n",
        "for i, v in enumerate(efficiency):\n",
        "    ax4.text(i, v + 0.01, f'{v:.2f}', ha='center', va='bottom', fontsize=10)\n",
        "\n",
        "plt.tight_layout()\n",
        "plt.show()\n",
        "\n",
        "# Determinar el mejor método\n",
        "best_method_cv = max(zip(methods, cv_scores), key=lambda x: x[1])\n",
        "best_method_test = max(zip(methods, test_f1_scores), key=lambda x: x[1])\n",
        "most_efficient = max(zip(methods, efficiency), key=lambda x: x[1])\n",
        "\n",
        "print(f\"\\nRESULTADOS FINALES:\")\n",
        "print(\"=\"*50)\n",
        "print(f\"Mejor CV Score: {best_method_cv[0]} ({best_method_cv[1]:.4f})\")\n",
        "print(f\"Mejor Test F1: {best_method_test[0]} ({best_method_test[1]:.4f})\")\n",
        "print(f\"Más Eficiente: {most_efficient[0]} ({most_efficient[1]:.2f})\")"
      ]
    },
    {
      "cell_type": "markdown",
      "metadata": {},
      "source": [
        "## Conclusiones\n",
        "\n",
        "Los resultados revelan que GridSearchCV obtuvo el mejor rendimiento en el conjunto de prueba (F1-Score: 0.9586) utilizando solo 24 evaluaciones exhaustivas, mientras que Optuna, a pesar de explorar un espacio más amplio con 6 hiperparámetros y 100 trials inteligentes, alcanzó un F1-Score menor (0.9231). RandomizedSearchCV demostró ser el más eficiente (93.02 puntos por evaluación) con solo 10 trials aleatorios. Aunque Optuna logró el mejor score de validación cruzada (0.9524), esto no se tradujo en mejor performance de prueba, sugiriendo posible sobreajuste o que el conjunto de datos es lo suficientemente simple como para que la búsqueda exhaustiva tradicional sea más efectiva. Este experimento ilustra que métodos más complejos no siempre garantizan mejores resultados, y la elección del método debe considerar tanto la complejidad del problema como los recursos computacionales disponibles."
      ]
    }
  ],
  "metadata": {
    "colab": {
      "provenance": []
    },
    "kernelspec": {
      "display_name": ".venv",
      "language": "python",
      "name": "python3"
    },
    "language_info": {
      "codemirror_mode": {
        "name": "ipython",
        "version": 3
      },
      "file_extension": ".py",
      "mimetype": "text/x-python",
      "name": "python",
      "nbconvert_exporter": "python",
      "pygments_lexer": "ipython3",
      "version": "3.11.9"
    }
  },
  "nbformat": 4,
  "nbformat_minor": 0
}
